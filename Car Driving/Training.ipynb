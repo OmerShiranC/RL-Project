{
 "cells": [
  {
   "cell_type": "markdown",
   "metadata": {
    "pycharm": {
     "name": "#%% md\n"
    }
   },
   "source": [
    "# Import libraries and modules"
   ]
  },
  {
   "cell_type": "code",
   "execution_count": 194,
   "metadata": {
    "collapsed": false,
    "jupyter": {
     "outputs_hidden": false
    },
    "pycharm": {
     "name": "#%%\n"
    },
    "tags": []
   },
   "outputs": [],
   "source": [
    "from Environments import *\n",
    "# from DQN import *"
   ]
  },
  {
   "cell_type": "markdown",
   "metadata": {
    "pycharm": {
     "name": "#%% md\n"
    }
   },
   "source": [
    "# Define the settings of the environment"
   ]
  },
  {
   "cell_type": "code",
   "execution_count": 195,
   "metadata": {
    "collapsed": false,
    "jupyter": {
     "outputs_hidden": false
    },
    "pycharm": {
     "name": "#%%\n"
    },
    "tags": []
   },
   "outputs": [],
   "source": [
    "class Settings:\n",
    "    \"\"\"Define settings of the environment such as course shape, course characteristics\n",
    "       possible actions, position, neural-network parameters and training parameters\n",
    "\n",
    "    Example usage:\n",
    "        > settings = Settings()\n",
    "    \"\"\"\n",
    "    def __init__(self):\n",
    "        # Define road segments, this whole sequence is an ellipsis course\n",
    "        # Starts with straight horizontal line, draw elliptical section\n",
    "        # then another straight line and then close with another ellipsis\n",
    "        self.road_segments = [\n",
    "            {\n",
    "                'x': lambda t: t,\n",
    "                'y': lambda t: 0.000001*t,\n",
    "                't_start': 0,\n",
    "                't_end': 10\n",
    "            },\n",
    "            {\n",
    "                'x': lambda t: 10 + 5 * sp.sin(np.pi * (t - 10)),\n",
    "                'y': lambda t: 5-5 * sp.cos(np.pi * (t - 10)),\n",
    "                't_start': 10,\n",
    "                't_end': 11\n",
    "            },\n",
    "            {\n",
    "                'x': lambda t: 21-t,\n",
    "                'y': lambda t: 8 +2*sp.cos(np.pi * (t - 11)/10),\n",
    "                't_start': 11,\n",
    "                't_end': 21\n",
    "            },\n",
    "            {\n",
    "                'x': lambda t: 3 * sp.sin(np.pi * (t - 20)),\n",
    "                'y': lambda t: 3 - 3 * sp.cos(np.pi * (t - 20)),\n",
    "                't_start': 21,\n",
    "                't_end': 22\n",
    "            }\n",
    "        ]\n",
    "        # Define road parameters such as width and length\n",
    "        self.road_width    = 1\n",
    "        self.road_length   = 15\n",
    "        # Closed is a boolean that indicates whether the circuit is closed\n",
    "        # (I presume)\n",
    "        self.closed        = False\n",
    "        # Road resolutions refers to how coarse the grid that constitutes the\n",
    "        # course is (affects number of states)\n",
    "        self.road_resolution = 100\n",
    "\n",
    "\n",
    "        # car settings\n",
    "\n",
    "        # car initial position\n",
    "        self.init_car_x = 4\n",
    "        self.init_car_y = 0\n",
    "        self.init_car_theta = 0\n",
    "\n",
    "        self.init_car_speed = .25\n",
    "\n",
    "        #sensors\n",
    "        self.n_sensors = 7\n",
    "        self.resolution = .1\n",
    "        self.max_sensor_range = 5\n",
    "\n",
    "        #actions\n",
    "        self.action_dim = 7  # Actions for steering\n",
    "        self.actions = 0.5*np.linspace(-1,1,self.action_dim)\n",
    "\n",
    "        ## NN\n",
    "        self.state_dim = self.n_sensors  * self.max_sensor_range / self.resolution   # State dimension is the number of sensor\n",
    "        self.hidden_layers = [32, 16]\n",
    "        # Define the gamma and alpha\n",
    "        self.gamma  = .95\n",
    "        self.alpha  = .95\n",
    "\n",
    "        # training\n",
    "        self.epsilon = 0.05\n",
    "        self.learning_rate      = 0.001\n",
    "        self.num_episodes = 100"
   ]
  },
  {
   "cell_type": "code",
   "execution_count": 196,
   "outputs": [],
   "source": [
    "# Machine Learning and Deep Learning\n",
    "import torch\n",
    "import torch.nn as nn\n",
    "import torch.optim as optim\n",
    "import os\n",
    "import subprocess\n",
    "import sys\n",
    "\n",
    "def get_device():\n",
    "    if 'COLAB_TPU_ADDR' in os.environ:\n",
    "        print(\"TPU detected. Setting up TPU...\")\n",
    "        try:\n",
    "            import torch_xla.core.xla_model as xm\n",
    "            return xm.xla_device()\n",
    "        except ImportError:\n",
    "            print(\"TPU libraries not found. Installing required packages...\")\n",
    "            subprocess.check_call([sys.executable, \"-m\", \"pip\", \"install\",\n",
    "                                   \"cloud-tpu-client==0.10\",\n",
    "                                   \"torch==1.13.0\",\n",
    "                                   \"https://storage.googleapis.com/tpu-pytorch/wheels/colab/torch_xla-1.13-cp38-cp38-linux_x86_64.whl\"])\n",
    "            import torch_xla.core.xla_model as xm\n",
    "            return xm.xla_device()\n",
    "    elif torch.cuda.is_available():\n",
    "        return torch.device(\"cuda\")\n",
    "    elif torch.backends.mps.is_available():\n",
    "        return torch.device(\"mps\")\n",
    "    else:\n",
    "        return torch.device(\"cpu\")\n",
    "\n",
    "\n",
    "class PolicyNetwork1(nn.Module):\n",
    "    def __init__(self, road_env, carenv, settings, train_mode):\n",
    "        self.road_env = road_env\n",
    "        self.carenv = carenv\n",
    "        self.settings = settings\n",
    "        self.train_mode = train_mode\n",
    "\n",
    "        # Define the device\n",
    "        self.device = get_device()\n",
    "\n",
    "        # Define the neural network\n",
    "        super(PolicyNetwork1, self).__init__()\n",
    "\n",
    "        # Create a list to hold all layers\n",
    "        layers = []\n",
    "\n",
    "        # Input layer\n",
    "        layers.append(nn.Linear(self.settings.n_sensors, self.settings.hidden_layers[0]))\n",
    "        layers.append(nn.ReLU())\n",
    "\n",
    "        # Hidden layers\n",
    "        for i in range(len(self.settings.hidden_layers) - 1):\n",
    "            layers.append(nn.Linear(self.settings.hidden_layers[i], self.settings.hidden_layers[i + 1]))\n",
    "            layers.append(nn.ReLU())\n",
    "\n",
    "        # Output layer\n",
    "        layers.append(nn.Linear(self.settings.hidden_layers[-1], self.settings.action_dim))\n",
    "\n",
    "        # Combine all layers\n",
    "        self.model = nn.Sequential(*layers).to(self.device)\n",
    "\n",
    "    def forward(self, state):\n",
    "        return self.model(state)\n",
    "\n",
    "\n",
    "    def get_action(self, state): # epsilon greedy\n",
    "        if np.random.rand() < self.settings.epsilon:\n",
    "            return np.random.choice(self.settings.actions)\n",
    "        else:\n",
    "            state = torch.FloatTensor(state).to(self.device)\n",
    "            with torch.no_grad():\n",
    "                action = self.forward(state)\n",
    "            action = torch.argmax(action).item()\n",
    "            return action\n",
    "\n",
    "    def train(self, num_episodes):\n",
    "        all_rewards = []\n",
    "        plot_training_progress(all_rewards, first=True)\n",
    "\n",
    "        # we can add more complex trainig rate scheduling\n",
    "        optimizer = optim.Adam(self.model.parameters(), lr=self.settings.learning_rate)\n",
    "        criterion = nn.MSELoss()\n",
    "\n",
    "        for episode in range(num_episodes):\n",
    "            total_reward = 0\n",
    "\n",
    "            state = self.carenv.car_reset()\n",
    "            state = torch.FloatTensor(self.car_env.get_state()).to(self.device)\n",
    "\n",
    "            while not self.car_env.Terminal:\n",
    "                action = self.get_action(state)\n",
    "                next_state, reward = self.car_env.step(self.car_env.actions[action])\n",
    "                next_state = torch.FloatTensor(next_state).to(self.device)\n",
    "\n",
    "                total_reward += reward\n",
    "\n",
    "                # Compute Q(s, a):\n",
    "                Q_values = self.forward(state)\n",
    "                Q_value = Q_values[action]\n",
    "\n",
    "                # Compute Q(s', a')\n",
    "                with torch.no_grad():\n",
    "                   next_Q_values = self.forward(next_state)\n",
    "                   next_Q_value = torch.max(next_Q_values)\n",
    "\n",
    "                # Compute the target Q value\n",
    "                target_Q_value = reward + self.settings.gamma * next_Q_value*(1 - self.car_env.Terminal)\n",
    "                expected_Q_value = Q_value.clone()\n",
    "                expected_Q_value[0, action] = target_Q_value\n",
    "\n",
    "                # Compute the loss\n",
    "                loss = criterion(Q_values, expected_Q_value)\n",
    "\n",
    "                # Update the model\n",
    "                optimizer.zero_grad()\n",
    "                loss.backward()\n",
    "                optimizer.step()\n",
    "\n",
    "                state = next_state\n",
    "\n",
    "            all_rewards.append(total_reward)\n",
    "            if episode % 10 == 0:\n",
    "                plot_training_progress(all_rewards, first=False)\n",
    "\n",
    "        #save the model and the settings\n",
    "        torch.save(self.settings, 'car_policy_settings.pth')\n",
    "        torch.save(self.model.state_dict(), 'car_policy_model.pth')\n",
    "        print('Model and Settings saved successfully')\n",
    "\n",
    "def plot_training_progress(all_rewards, first):\n",
    "    if first:\n",
    "        fig, ax = plt.subplots(figsize=(20, 7))\n",
    "        line, = ax.plot([], [])\n",
    "        ax.set_xlabel('Episode')\n",
    "        ax.set_ylabel('Total Reward')\n",
    "        ax.set_title('Training Progress')\n",
    "    else:\n",
    "        if 'line' not in locals():\n",
    "            line, = ax.plot([], [])\n",
    "        line.set_xdata(range(len(all_rewards)))\n",
    "        line.set_ydata(all_rewards)\n",
    "        ax.relim()\n",
    "        ax.autoscale_view()\n",
    "        display.clear_output(wait=True)\n",
    "        display.display(fig)\n",
    "        plt.pause(0.1)"
   ],
   "metadata": {
    "collapsed": false,
    "pycharm": {
     "name": "#%%\n"
    }
   }
  },
  {
   "cell_type": "markdown",
   "metadata": {
    "pycharm": {
     "name": "#%% md\n"
    }
   },
   "source": [
    "# Create the settings and environment objects"
   ]
  },
  {
   "cell_type": "code",
   "execution_count": 197,
   "metadata": {
    "collapsed": false,
    "jupyter": {
     "outputs_hidden": false
    },
    "pycharm": {
     "name": "#%%\n"
    },
    "tags": []
   },
   "outputs": [],
   "source": [
    "settings = Settings()\n",
    "roadenv = RoadEnv(settings)\n",
    "carenv = CarEnv(settings, roadenv)\n",
    "NN = PolicyNetwork1(roadenv, carenv, settings, train_mode=True)"
   ]
  },
  {
   "cell_type": "code",
   "execution_count": 198,
   "outputs": [
    {
     "ename": "NameError",
     "evalue": "name 'settings' is not defined",
     "output_type": "error",
     "traceback": [
      "\u001B[0;31m---------------------------------------------------------------------------\u001B[0m",
      "\u001B[0;31mNameError\u001B[0m                                 Traceback (most recent call last)",
      "Cell \u001B[0;32mIn[198], line 1\u001B[0m\n\u001B[0;32m----> 1\u001B[0m NN\u001B[38;5;241m.\u001B[39mtrain(\u001B[38;5;241m10\u001B[39m)\n",
      "Cell \u001B[0;32mIn[196], line 87\u001B[0m, in \u001B[0;36mPolicyNetwork1.train\u001B[0;34m(self, num_episodes)\u001B[0m\n\u001B[1;32m     84\u001B[0m \u001B[38;5;28;01mfor\u001B[39;00m episode \u001B[38;5;129;01min\u001B[39;00m \u001B[38;5;28mrange\u001B[39m(num_episodes):\n\u001B[1;32m     85\u001B[0m     total_reward \u001B[38;5;241m=\u001B[39m \u001B[38;5;241m0\u001B[39m\n\u001B[0;32m---> 87\u001B[0m     state \u001B[38;5;241m=\u001B[39m \u001B[38;5;28mself\u001B[39m\u001B[38;5;241m.\u001B[39mcarenv\u001B[38;5;241m.\u001B[39mcar_reset()\n\u001B[1;32m     88\u001B[0m     state \u001B[38;5;241m=\u001B[39m torch\u001B[38;5;241m.\u001B[39mFloatTensor(\u001B[38;5;28mself\u001B[39m\u001B[38;5;241m.\u001B[39mcar_env\u001B[38;5;241m.\u001B[39mget_state())\u001B[38;5;241m.\u001B[39mto(\u001B[38;5;28mself\u001B[39m\u001B[38;5;241m.\u001B[39mdevice)\n\u001B[1;32m     90\u001B[0m     \u001B[38;5;28;01mwhile\u001B[39;00m \u001B[38;5;129;01mnot\u001B[39;00m \u001B[38;5;28mself\u001B[39m\u001B[38;5;241m.\u001B[39mcar_env\u001B[38;5;241m.\u001B[39mTerminal:\n",
      "File \u001B[0;32m~/anaconda3/OmerShiranCGit/RL/RL-Project/Car Driving/Environments.py:256\u001B[0m, in \u001B[0;36mCarEnv.car_reset\u001B[0;34m(self)\u001B[0m\n\u001B[1;32m    255\u001B[0m \u001B[38;5;28;01mdef\u001B[39;00m \u001B[38;5;21mcar_reset\u001B[39m(\u001B[38;5;28mself\u001B[39m):\n\u001B[0;32m--> 256\u001B[0m     \u001B[38;5;28mself\u001B[39m\u001B[38;5;241m.\u001B[39mx \u001B[38;5;241m=\u001B[39m settings\u001B[38;5;241m.\u001B[39minit_car_x\n\u001B[1;32m    257\u001B[0m     \u001B[38;5;28mself\u001B[39m\u001B[38;5;241m.\u001B[39my \u001B[38;5;241m=\u001B[39m settings\u001B[38;5;241m.\u001B[39minit_car_y\n\u001B[1;32m    258\u001B[0m     \u001B[38;5;28mself\u001B[39m\u001B[38;5;241m.\u001B[39mtheta \u001B[38;5;241m=\u001B[39m settings\u001B[38;5;241m.\u001B[39minit_car_theta\n",
      "\u001B[0;31mNameError\u001B[0m: name 'settings' is not defined"
     ]
    },
    {
     "data": {
      "text/plain": "<Figure size 2000x700 with 1 Axes>",
      "image/png": "[encoded data removed]"
     },
     "metadata": {},
     "output_type": "display_data"
    }
   ],
   "source": [
    "NN.train(10)"
   ],
   "metadata": {
    "collapsed": false,
    "pycharm": {
     "name": "#%%\n"
    }
   }
  },
  {
   "cell_type": "code",
   "execution_count": null,
   "outputs": [],
   "source": [],
   "metadata": {
    "collapsed": false,
    "pycharm": {
     "name": "#%%\n"
    }
   }
  }
 ],
 "metadata": {
  "kernelspec": {
   "display_name": "Python 3 (ipykernel)",
   "language": "python",
   "name": "python3"
  },
  "language_info": {
   "codemirror_mode": {
    "name": "ipython",
    "version": 3
   },
   "file_extension": ".py",
   "mimetype": "text/x-python",
   "name": "python",
   "nbconvert_exporter": "python",
   "pygments_lexer": "ipython3",
   "version": "3.11.5"
  }
 },
 "nbformat": 4,
 "nbformat_minor": 4
}