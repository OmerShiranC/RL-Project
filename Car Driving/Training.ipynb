{
 "cells": [
  {
   "cell_type": "markdown",
   "metadata": {
    "pycharm": {
     "name": "#%% md\n"
    }
   },
   "source": [
    "# Import libraries and modules"
   ]
  },
  {
   "cell_type": "code",
   "execution_count": 56,
   "metadata": {
    "collapsed": false,
    "jupyter": {
     "outputs_hidden": false
    },
    "pycharm": {
     "name": "#%%\n"
    },
    "tags": []
   },
   "outputs": [],
   "source": [
    "from Environments import *\n",
    "from DQN import *"
   ]
  },
  {
   "cell_type": "markdown",
   "metadata": {
    "pycharm": {
     "name": "#%% md\n"
    }
   },
   "source": [
    "# Define the settings of the environment"
   ]
  },
  {
   "cell_type": "code",
   "execution_count": 57,
   "metadata": {
    "collapsed": false,
    "jupyter": {
     "outputs_hidden": false
    },
    "pycharm": {
     "name": "#%%\n"
    },
    "tags": []
   },
   "outputs": [],
   "source": [
    "class Settings:\n",
    "    \"\"\"Define settings of the environment such as course shape, course characteristics\n",
    "       possible actions, position, neural-network parameters and training parameters\n",
    "\n",
    "    Example usage:\n",
    "        > settings = Settings()\n",
    "    \"\"\"\n",
    "    def __init__(self):\n",
    "        # Define road segments, this whole sequence is an ellipsis course\n",
    "        # Starts with straight horizontal line, draw elliptical section\n",
    "        # then another straight line and then close with another ellipsis\n",
    "        self.road_segments = [\n",
    "            {\n",
    "                'x': lambda t: t,\n",
    "                'y': lambda t: 0.000001*t,\n",
    "                't_start': 0,\n",
    "                't_end': 10\n",
    "            },\n",
    "            {\n",
    "                'x': lambda t: 10 + 5 * sp.sin(np.pi * (t - 10)),\n",
    "                'y': lambda t: 5-5 * sp.cos(np.pi * (t - 10)),\n",
    "                't_start': 10,\n",
    "                't_end': 11\n",
    "            },\n",
    "            {\n",
    "                'x': lambda t: 21-t,\n",
    "                'y': lambda t: 8 +2*sp.cos(np.pi * (t - 11)/10),\n",
    "                't_start': 11,\n",
    "                't_end': 21\n",
    "            },\n",
    "            {\n",
    "                'x': lambda t: 3 * sp.sin(np.pi * (t - 20)),\n",
    "                'y': lambda t: 3 - 3 * sp.cos(np.pi * (t - 20)),\n",
    "                't_start': 21,\n",
    "                't_end': 22\n",
    "            }\n",
    "        ]\n",
    "        # Define road parameters such as width and length\n",
    "        self.road_width    = 1\n",
    "        self.road_length   = 15\n",
    "        # Closed is a boolean that indicates whether the circuit is closed\n",
    "        # (I presume)\n",
    "        self.closed        = False\n",
    "        # Road resolutions refers to how coarse the grid that constitutes the\n",
    "        # course is (affects number of states)\n",
    "        self.road_resolution = 100\n",
    "\n",
    "\n",
    "        # car settings\n",
    "\n",
    "        # car initial position\n",
    "        self.init_car_x = 4\n",
    "        self.init_car_y = 0\n",
    "        self.init_car_theta = 0\n",
    "\n",
    "        self.init_car_speed = .25\n",
    "\n",
    "        #sensors\n",
    "        self.n_sensors = 7\n",
    "        self.resolution = .3\n",
    "        self.max_sensor_range = 3\n",
    "\n",
    "        #actions\n",
    "        self.action_dim = 7  # Actions for steering\n",
    "        self.actions = 0.5*np.linspace(-1,1,self.action_dim)\n",
    "\n",
    "        ## NN\n",
    "        self.state_dim = self.n_sensors  * self.max_sensor_range / self.resolution   # State dimension is the number of sensor\n",
    "        self.Hidden_layers = [32, 16]\n",
    "        # Define the gamma and alpha\n",
    "        self.gamma  = .95\n",
    "        self.alpha  = .95\n",
    "\n",
    "        # training\n",
    "        self.epsilon = 0.05\n",
    "        self.lr      = 0.001\n",
    "        self.num_episodes = 100"
   ]
  },
  {
   "cell_type": "markdown",
   "metadata": {
    "pycharm": {
     "name": "#%% md\n"
    }
   },
   "source": [
    "# Create the settings and environment objects"
   ]
  },
  {
   "cell_type": "code",
   "execution_count": 58,
   "metadata": {
    "collapsed": false,
    "jupyter": {
     "outputs_hidden": false
    },
    "pycharm": {
     "name": "#%%\n"
    },
    "tags": []
   },
   "outputs": [
    {
     "ename": "TypeError",
     "evalue": "CarEnv.__init__() takes 2 positional arguments but 3 were given",
     "output_type": "error",
     "traceback": [
      "\u001B[0;31m---------------------------------------------------------------------------\u001B[0m",
      "\u001B[0;31mTypeError\u001B[0m                                 Traceback (most recent call last)",
      "Cell \u001B[0;32mIn[58], line 3\u001B[0m\n\u001B[1;32m      1\u001B[0m settings \u001B[38;5;241m=\u001B[39m Settings()\n\u001B[1;32m      2\u001B[0m roadenv \u001B[38;5;241m=\u001B[39m RoadEnv(settings)\n\u001B[0;32m----> 3\u001B[0m carenv \u001B[38;5;241m=\u001B[39m CarEnv(settings, roadenv)\n",
      "\u001B[0;31mTypeError\u001B[0m: CarEnv.__init__() takes 2 positional arguments but 3 were given"
     ]
    }
   ],
   "source": [
    "settings = Settings()\n",
    "roadenv = RoadEnv(settings)\n",
    "carenv = CarEnv(settings, roadenv)"
   ]
  },
  {
   "cell_type": "code",
   "execution_count": null,
   "metadata": {
    "collapsed": false,
    "jupyter": {
     "outputs_hidden": false
    },
    "pycharm": {
     "name": "#%%\n"
    },
    "tags": []
   },
   "outputs": [],
   "source": [
    "for i in range(50):\n",
    "    Visualize(roadenv, carenv, settings)\n",
    "    print('')\n",
    "    action_number =  get_valid_input(1,settings.action_dim)\n",
    "\n",
    "    action = settings.actions[action_number]\n",
    "    if action == 'q':\n",
    "        break\n",
    "    state, reward = carenv.step(action)\n",
    "    if carenv.terminal:\n",
    "        print(f\"Episode {i+1} finished\")\n",
    "        break\n",
    "    else:\n",
    "        print(f\"Episode {i+1} \")\n",
    "        print(f'self.x: {carenv.x:.2f}  self.y: {carenv.y:.2f}')\n",
    "        prinf(f'direction: {carenv.theta:.2f}   reward: {reward:.2f}    action: {action:.2f}    action_number: {action_number}')\n",
    "        print(f'self.terminal: {carenv.terminal:.2f}')\n",
    "        print(f'state: {state}')"
   ]
  },
  {
   "cell_type": "code",
   "execution_count": null,
   "metadata": {
    "collapsed": false,
    "jupyter": {
     "outputs_hidden": false
    },
    "pycharm": {
     "name": "#%%\n"
    }
   },
   "outputs": [],
   "source": []
  }
 ],
 "metadata": {
  "kernelspec": {
   "display_name": "Python 3 (ipykernel)",
   "language": "python",
   "name": "python3"
  },
  "language_info": {
   "codemirror_mode": {
    "name": "ipython",
    "version": 3
   },
   "file_extension": ".py",
   "mimetype": "text/x-python",
   "name": "python",
   "nbconvert_exporter": "python",
   "pygments_lexer": "ipython3",
   "version": "3.11.5"
  }
 },
 "nbformat": 4,
 "nbformat_minor": 4
}