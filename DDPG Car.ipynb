{
 "cells": [
  {
   "cell_type": "code",
   "execution_count": 26,
   "id": "c1db7971-75cd-4351-abcf-210f27e229ef",
   "metadata": {
    "tags": []
   },
   "outputs": [],
   "source": [
    "import numpy as np\n",
    "import matplotlib.pyplot as plt\n",
    "from matplotlib.path import Path\n",
    "from matplotlib.patches import PathPatch\n",
    "import random\n",
    "import torch\n",
    "import torch.nn as nn\n",
    "import math"
   ]
  },
  {
   "cell_type": "markdown",
   "id": "875a4901-8afb-4b97-8bca-152b93abffd2",
   "metadata": {
    "jp-MarkdownHeadingCollapsed": true,
    "tags": []
   },
   "source": [
    "# Visualisation"
   ]
  },
  {
   "cell_type": "code",
   "execution_count": 296,
   "id": "8a9166ce-8330-40ae-acce-463a18691e5b",
   "metadata": {
    "tags": []
   },
   "outputs": [],
   "source": [
    "def visualize(roadEnv,carEnv):\n",
    "    \"\"\"Visualize the road environment\"\"\"\n",
    "    fig, ax = plt.subplots(figsize=(10, 10))\n",
    "\n",
    "    # Plot center line\n",
    "    center = np.array(roadEnv.center)\n",
    "    ax.plot(center[:, 0], center[:, 1], 'k--', linewidth=1, label='Center')\n",
    "\n",
    "    # Plot left edge\n",
    "    left = np.array(roadEnv.left_edge)\n",
    "    ax.plot(left[:, 0], left[:, 1], 'b-', linewidth=2, label='Left Edge')\n",
    "\n",
    "    # Plot right edge\n",
    "    right = np.array(roadEnv.right_edge)\n",
    "    ax.plot(right[:, 0], right[:, 1], 'r-', linewidth=2, label='Right Edge')\n",
    "\n",
    "    # Fill the road area\n",
    "    road_polygon = np.vstack((left, right[::-1]))\n",
    "    ax.fill(road_polygon[:, 0], road_polygon[:, 1], color='gray', alpha=0.3)\n",
    "\n",
    "    # Car location and direction as arrow\n",
    "    car_loc_x = carEnv.car_state[\"location\"][0]\n",
    "    car_loc_y = carEnv.car_state[\"location\"][1]\n",
    "    car_dir = carEnv.car_state[\"direction\"]\n",
    "    \n",
    "    \n",
    "\n",
    "    arrow = plt.arrow(car_loc_x, car_loc_y, 0.2 * np.cos(car_dir), 0.2 * np.sin(car_dir), color='b', width=0.02)\n",
    "\n",
    "    ax.add_patch(arrow)\n",
    "    \n",
    "    # Car trajectory\n",
    "    trajectory = carEnv.trajectory.copy()  # Get a copy of the trajectory\n",
    "    if len(trajectory) > 1:  # Check if there's more than one point\n",
    "        x_traj, y_traj = zip(*trajectory)  # Unpack coordinates if trajectory has points\n",
    "        ax.plot(x_traj, y_traj, 'r-', linewidth=1, label='Trajectory')\n",
    "\n",
    "    \n",
    "\n",
    "    \n",
    "    # Set plot properties\n",
    "    ax.set_aspect('equal', 'box')\n",
    "    ax.set_xlabel('X')\n",
    "    ax.set_ylabel('Y')\n",
    "    ax.set_title('Road Environment')\n",
    "    ax.legend(loc='upper right')\n",
    "    ax.grid(True)\n",
    "\n",
    "    # Adjust the plot limits\n",
    "    all_points = np.vstack((roadEnv.center, roadEnv.left_edge, roadEnv.right_edge))\n",
    "    margin = roadEnv.width\n",
    "    ax.set_xlim(min(all_points[:, 0]) - margin, max(all_points[:, 0]) + margin)\n",
    "    ax.set_ylim(min(all_points[:, 1]) - margin, max(all_points[:, 1]) + margin)\n",
    "\n",
    "    plt.show()"
   ]
  },
  {
   "cell_type": "markdown",
   "id": "1fd6c22d-1b91-4da8-840f-55aa54d41319",
   "metadata": {
    "tags": []
   },
   "source": [
    "# Env"
   ]
  },
  {
   "cell_type": "code",
   "execution_count": 318,
   "id": "b78bd37c-c37c-46a9-849d-45f975271bc5",
   "metadata": {
    "tags": []
   },
   "outputs": [],
   "source": [
    "class RoadEnvironment:\n",
    "    def __init__(self, data_points, width, length, closed=True):\n",
    "        \"\"\"\n",
    "        Initialize the road environment.\n",
    "        \n",
    "        :param data_points: List of (x, y) tuples representing road points\n",
    "        :param width: Width of the road (distance from center to edge)\n",
    "        :param closed: Boolean indicating if the road is a closed loop\n",
    "        \"\"\"\n",
    "        self.data_points = np.array(data_points)\n",
    "        self.width = width\n",
    "        self.length = length\n",
    "        self.closed = closed\n",
    "        self.road_path = self._generate_road_path()\n",
    "        \n",
    "        # more parameters\n",
    "        self.resulotion = 0.1\n",
    "        \n",
    "    def _generate_road_path(self):\n",
    "        self.center = [(0,0),(0,self.length)]\n",
    "        self.left_edge = [(self.width,0),(self.width,self.length)]\n",
    "        self.right_edge = [(-self.width,0),(-self.width,self.length)]\n",
    "        \n",
    "    \n",
    "    def on_road(self,loc,direction):\n",
    "        x = loc[0]\n",
    "        y = loc[1]\n",
    "        # Check road boundaries using individual conditions\n",
    "        if  -self.width < x < self.width and 0 <= y < self.length and 0 < direction <  np.pi:\n",
    "            return False\n",
    "        else:\n",
    "            return True\n",
    "    \n",
    "    def sensors(self, loc, direction, n): #number of sensors\n",
    "        min_dir = direction - .5 * np.pi\n",
    "        max_dir = direction + .5 * np.pi\n",
    "        directions = np.linspace(min_dir, max_dir, n)\n",
    "        distanses = []\n",
    "        \n",
    "        for i in directions:\n",
    "            temp_loc = loc.copy()\n",
    "            dis = 0\n",
    "            while not self.on_road(temp_loc,direction = 0.5*np.pi) and dis < 20:\n",
    "                temp_loc[0] +=  self.resulotion *  math.cos(i)\n",
    "                temp_loc[1] +=  self.resulotion *  math.sin(i)\n",
    "                dis += self.resulotion\n",
    "            distanses.append(dis)\n",
    "            \n",
    "\n",
    "        return distanses\n",
    "          \n",
    "\n",
    "        \n",
    "\n"
   ]
  },
  {
   "cell_type": "code",
   "execution_count": 320,
   "id": "b5e7fc89-21ef-47c9-ac3d-9214fedbec98",
   "metadata": {
    "tags": []
   },
   "outputs": [],
   "source": [
    "class CarEnvironment:\n",
    "    def __init__(self,RoadEnv,max_speed=5):\n",
    "        self.max_speed = max_speed\n",
    "        self.reset()  # Initialize car state\n",
    "        \n",
    "\n",
    "    def reset(self):\n",
    "        self.car_state = {\n",
    "            \"location\": [0,0],\n",
    "            \"speed\": .5,\n",
    "            \"direction\": np.pi/2  }# + np.random.uniform(-.4, .4) }\n",
    "        self.Terminal = False\n",
    "        self.trajectory = [self.car_state[\"location\"].copy()]\n",
    "  \n",
    "    \n",
    "    def distance_to_edge(self):\n",
    "        \"\"\"  Calculate the distance to the closest edge of the road. \"\"\"\n",
    "        x = self.car_state[\"location\"][0]\n",
    "        return min([abs(x),abs(-x)])  # Replace with actual distance calculation\n",
    "\n",
    "    def step(self, action):       \n",
    "        # Update car state based on action         \n",
    "        self.car_state[\"direction\"] = self.car_state[\"direction\"] + np.squeeze(action)\n",
    "\n",
    "        # Move the car based on speed and direction\n",
    "        dx = self.car_state['speed'] * math.cos(self.car_state[\"direction\"])\n",
    "        dy = self.car_state['speed'] * math.sin(self.car_state[\"direction\"])\n",
    "        self.car_state[\"location\"][0] += dx\n",
    "        self.car_state[\"location\"][1] += dy\n",
    "        \n",
    "        self.Terminal = RoadEnv.on_road(self.car_state[\"location\"],self.car_state[\"direction\"])\n",
    "               \n",
    "        if self.Terminal:\n",
    "            reward = -10\n",
    "        else:\n",
    "            reward = -self.distance_to_edge()\n",
    "            self.trajectory.append(np.array(self.car_state[\"location\"].copy()))\n",
    "        \n",
    "        return reward\n",
    "\n"
   ]
  },
  {
   "cell_type": "markdown",
   "id": "89a3256d-8122-429c-95eb-b20752a07776",
   "metadata": {},
   "source": [
    "# NN"
   ]
  },
  {
   "cell_type": "code",
   "execution_count": 322,
   "id": "09c5b90f-4149-4d91-ab98-d44421651de2",
   "metadata": {
    "tags": []
   },
   "outputs": [],
   "source": [
    "class CarAgent(nn.Module):\n",
    "    def __init__(self, state_size=5, action_size=1):\n",
    "        super(CarAgent, self).__init__()\n",
    "        self.state_size = state_size\n",
    "        self.action_size = action_size\n",
    "        self.build_model()\n",
    "\n",
    "    def build_model(self):\n",
    "        # Define the neural network architecture\n",
    "        self.fc1 = nn.Linear(self.state_size, 32)\n",
    "        self.fc2 = nn.Linear(32, 8)\n",
    "        self.fc3 = nn.Linear(8, 4)\n",
    "        self.fc4 = nn.Linear(4, self.action_size)\n",
    "\n",
    "    def forward(self, x):\n",
    "        \"\"\"\n",
    "        Define the forward pass of the neural network.\n",
    "        \"\"\"\n",
    "        x = torch.relu(self.fc1(x))\n",
    "        x = torch.relu(self.fc2(x))\n",
    "        x = torch.relu(self.fc3(x))\n",
    "        x = self.fc4(x)\n",
    "        return x\n",
    "\n",
    "    def act(self, state):\n",
    "        \"\"\"\n",
    "        Predict an action based on the input state. \"\"\"\n",
    "        \n",
    "        state = RoadEnv.sensors( state[\"location\"].copy(), state[\"direction\"], n=self.state_size)  \n",
    "        state = torch.tensor(state, dtype=torch.float).unsqueeze(0)  # Convert to tensor and add batch dim\n",
    "        action = self.forward(state)\n",
    "\n",
    "        return action.detach().numpy()[0]  # Detach and convert back to numpy array\n",
    "    "
   ]
  },
  {
   "cell_type": "markdown",
   "id": "e2f5fbfd-ab85-4de9-b32b-56bf0038d447",
   "metadata": {},
   "source": [
    "# Test"
   ]
  },
  {
   "cell_type": "code",
   "execution_count": 328,
   "id": "15ac2531-4e87-4273-8794-2aae8582fe4e",
   "metadata": {
    "tags": []
   },
   "outputs": [
    {
     "name": "stdout",
     "output_type": "stream",
     "text": [
      "CarEnv = [[0, 0], array([0.02181011, 0.49952409]), array([0.0653888 , 0.99762137]), array([0.13672524, 1.49250632]), array([0.26315765, 1.97625713]), array([0.4594922 , 2.43609704]), array([0.71794193, 2.8641201 ])]\n"
     ]
    },
    {
     "data": {
      "image/png": "[encoded data removed]",
      "text/plain": [
       "<Figure size 1000x1000 with 1 Axes>"
      ]
     },
     "metadata": {},
     "output_type": "display_data"
    }
   ],
   "source": [
    "RoadEnv = RoadEnvironment(data_points= [(0, 0), (0, 10)], width=1,length =15, closed=False)\n",
    "CarEnv  = CarEnvironment(RoadEnv)\n",
    "car_agent = CarAgent()\n",
    "\n",
    "\n",
    "\n",
    "while not CarEnv.Terminal:\n",
    "    action = car_agent.act(CarEnv.car_state)\n",
    "    CarEnv.step(action)\n",
    "\n",
    "\n",
    "print(f'CarEnv = {CarEnv.trajectory}')\n",
    "visualize(RoadEnv,CarEnv)"
   ]
  },
  {
   "cell_type": "code",
   "execution_count": 385,
   "id": "403806a3-5550-4538-8cc9-24d0e52cf4a3",
   "metadata": {
    "tags": []
   },
   "outputs": [
    {
     "data": {
      "text/plain": [
       "1.4154536623410654"
      ]
     },
     "execution_count": 385,
     "metadata": {},
     "output_type": "execute_result"
    }
   ],
   "source": [
    "random.uniform(-.4, .4)+np.pi/2 "
   ]
  },
  {
   "cell_type": "code",
   "execution_count": null,
   "id": "0b13d436-613c-464d-aba2-d4bf3aa1e9a2",
   "metadata": {},
   "outputs": [],
   "source": []
  }
 ],
 "metadata": {
  "kernelspec": {
   "display_name": "Python 3 (ipykernel)",
   "language": "python",
   "name": "python3"
  },
  "language_info": {
   "codemirror_mode": {
    "name": "ipython",
    "version": 3
   },
   "file_extension": ".py",
   "mimetype": "text/x-python",
   "name": "python",
   "nbconvert_exporter": "python",
   "pygments_lexer": "ipython3",
   "version": "3.11.5"
  }
 },
 "nbformat": 4,
 "nbformat_minor": 5
}
