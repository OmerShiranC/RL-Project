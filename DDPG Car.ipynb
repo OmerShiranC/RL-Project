{
 "cells": [
  {
   "cell_type": "code",
   "execution_count": 457,
   "id": "c1db7971-75cd-4351-abcf-210f27e229ef",
   "metadata": {
    "pycharm": {
     "name": "#%%\n"
    },
    "tags": []
   },
   "outputs": [],
   "source": [
    "import numpy as np\n",
    "import matplotlib.pyplot as plt\n",
    "from matplotlib.path import Path\n",
    "from matplotlib.patches import PathPatch\n",
    "import random\n",
    "import torch\n",
    "import torch.nn as nn\n",
    "import math\n",
    "import torch.optim as optim\n",
    "from collections import deque\n",
    "from IPython import display\n"
   ]
  },
  {
   "cell_type": "markdown",
   "id": "875a4901-8afb-4b97-8bca-152b93abffd2",
   "metadata": {
    "pycharm": {
     "name": "#%% md\n"
    },
    "tags": []
   },
   "source": [
    "# Visualisation"
   ]
  },
  {
   "cell_type": "code",
   "execution_count": 459,
   "id": "8a9166ce-8330-40ae-acce-463a18691e5b",
   "metadata": {
    "pycharm": {
     "name": "#%%\n"
    },
    "tags": []
   },
   "outputs": [],
   "source": [
    "def visualize(roadEnv,carEnv):\n",
    "    \"\"\"Visualize the road environment\"\"\"\n",
    "    fig, ax = plt.subplots(figsize=(10, 10))\n",
    "\n",
    "    # Plot center line\n",
    "    center = np.array(roadEnv.center)\n",
    "    ax.plot(center[:, 0], center[:, 1], 'k--', linewidth=1, label='Center')\n",
    "\n",
    "    # Plot left edge\n",
    "    left = np.array(roadEnv.left_edge)\n",
    "    ax.plot(left[:, 0], left[:, 1], 'b-', linewidth=2, label='Left Edge')\n",
    "\n",
    "    # Plot right edge\n",
    "    right = np.array(roadEnv.right_edge)\n",
    "    ax.plot(right[:, 0], right[:, 1], 'r-', linewidth=2, label='Right Edge')\n",
    "\n",
    "    # Fill the road area\n",
    "    road_polygon = np.vstack((left, right[::-1]))\n",
    "    ax.fill(road_polygon[:, 0], road_polygon[:, 1], color='gray', alpha=0.3)\n",
    "\n",
    "    # Car location and direction as arrow\n",
    "    car_loc_x = carEnv.car_state[\"location\"][0]\n",
    "    car_loc_y = carEnv.car_state[\"location\"][1]\n",
    "    car_dir = carEnv.car_state[\"direction\"]\n",
    "    \n",
    "    \n",
    "\n",
    "    arrow = plt.arrow(car_loc_x, car_loc_y, 0.2 * np.cos(car_dir), 0.2 * np.sin(car_dir), color='b', width=0.02)\n",
    "\n",
    "    ax.add_patch(arrow)\n",
    "    \n",
    "    # Car trajectory\n",
    "    trajectory = carEnv.trajectory.copy()  # Get a copy of the trajectory\n",
    "    if len(trajectory) > 1:  # Check if there's more than one point\n",
    "        x_traj, y_traj = zip(*trajectory)  # Unpack coordinates if trajectory has points\n",
    "        ax.plot(x_traj, y_traj, 'r-', linewidth=1, label='Trajectory')\n",
    "\n",
    "    \n",
    "\n",
    "    \n",
    "    # Set plot properties\n",
    "    ax.set_aspect('equal', 'box')\n",
    "    ax.set_xlabel('X')\n",
    "    ax.set_ylabel('Y')\n",
    "    ax.set_title('Road Environment')\n",
    "    ax.legend(loc='upper right')\n",
    "    ax.grid(True)\n",
    "\n",
    "    # Adjust the plot limits\n",
    "    all_points = np.vstack((roadEnv.center, roadEnv.left_edge, roadEnv.right_edge))\n",
    "    margin = roadEnv.road_width\n",
    "    ax.set_xlim(min(all_points[:, 0]) - margin, max(all_points[:, 0]) + margin)\n",
    "    ax.set_ylim(min(all_points[:, 1]) - margin, max(all_points[:, 1]) + margin)\n",
    "\n",
    "    plt.show()"
   ]
  },
  {
   "cell_type": "markdown",
   "id": "1fd6c22d-1b91-4da8-840f-55aa54d41319",
   "metadata": {
    "pycharm": {
     "name": "#%% md\n"
    },
    "tags": []
   },
   "source": [
    "# Env"
   ]
  },
  {
   "cell_type": "code",
   "execution_count": 461,
   "id": "b78bd37c-c37c-46a9-849d-45f975271bc5",
   "metadata": {
    "pycharm": {
     "name": "#%%\n"
    },
    "tags": []
   },
   "outputs": [],
   "source": [
    "class RoadEnvironment:\n",
    "    def __init__(self, data_points, road_width, road_length, closed):\n",
    "        \n",
    "        self.data_points = np.array(data_points)\n",
    "        self.road_width  = road_width\n",
    "        self.road_length = road_length\n",
    "        self.closed      = closed\n",
    "        \n",
    "        self.generate_road_path()        \n",
    "        \n",
    "    def generate_road_path(self):\n",
    "        self.center = [(0,0),(0,self.road_length)]\n",
    "        self.left_edge = [(self.road_width,0),(self.road_width,self.road_length)]\n",
    "        self.right_edge = [(-self.road_width,0),(-self.road_width,self.road_length)]\n",
    "        \n",
    "    def on_road(self,loc,direction):\n",
    "        x, y = loc[0], loc[1]\n",
    "\n",
    "        # Ensure all inputs are tensors\n",
    "        x = torch.as_tensor(x).float()\n",
    "        y = torch.as_tensor(y).float()\n",
    "        direction = torch.as_tensor(direction).float()\n",
    "\n",
    "        road_width = torch.tensor(self.road_width).float()\n",
    "        road_length = torch.tensor(self.road_length).float()\n",
    "        pi = torch.tensor(np.pi).float()\n",
    "\n",
    "        # Perform element-wise comparisons\n",
    "        condition_x = torch.logical_and(-road_width < x, x < road_width)\n",
    "        condition_y = torch.logical_and(torch.tensor(0.0) <= y, y < road_length)\n",
    "        condition_direction = torch.logical_and(torch.tensor(0.0) < direction, direction < pi)\n",
    "\n",
    "        # Combine conditions\n",
    "        condition = torch.all(condition_x) and torch.all(condition_y) and torch.all(condition_direction)\n",
    "\n",
    "        return not condition.item()\n",
    "\n",
    "    \n",
    "    def sensors_reading(self, loc, direction, n_sensors, resolution, max_sensor_range):\n",
    "        min_dir = direction - np.pi / 2\n",
    "        max_dir = direction + np.pi / 2\n",
    "        directions = np.linspace(min_dir, max_dir, n_sensors)\n",
    "\n",
    "        num_states = int(max_sensor_range / resolution)\n",
    "        readings = torch.zeros(n_sensors, num_states)\n",
    "\n",
    "        for idx, i in enumerate(directions):\n",
    "            temp_loc = loc.clone()\n",
    "            dis = 0\n",
    "            while not self.on_road(temp_loc,direction = 0.5*np.pi) and dis < max_sensor_range:\n",
    "                if isinstance(temp_loc, np.ndarray):\n",
    "                    temp_loc[0] += resolution * np.cos(i)\n",
    "                    temp_loc[1] += resolution * np.sin(i)\n",
    "                else:  # PyTorch tensor\n",
    "                    temp_loc[0] += resolution * torch.cos(torch.tensor(i))\n",
    "                    temp_loc[1] += resolution * torch.sin(torch.tensor(i))\n",
    "                dis += resolution\n",
    "        state_idx = min(int(dis / resolution), num_states - 1)\n",
    "        readings[idx, state_idx] = 1\n",
    "\n",
    "        return readings.flatten()  # Flatten to 1D tensor - > State"
   ]
  },
  {
   "cell_type": "code",
   "execution_count": 463,
   "id": "b5e7fc89-21ef-47c9-ac3d-9214fedbec98",
   "metadata": {
    "pycharm": {
     "name": "#%%\n"
    },
    "tags": []
   },
   "outputs": [],
   "source": [
    "class CarEnvironment:\n",
    "    def __init__(self, RoadEnv, n_sensors, resolution, max_sensor_range, actions):\n",
    "        self.actions = actions\n",
    "        self.RoadEnv = RoadEnv\n",
    "        self.reset()\n",
    "\n",
    "        # sensor parameters\n",
    "        self.n_sensors = n_sensors\n",
    "        self.resolution = resolution\n",
    "        self.max_sensor_range = max_sensor_range\n",
    "        \n",
    "    def reset(self):\n",
    "        self.car_state = {\n",
    "            \"location\": torch.tensor([np.random.uniform(-.2, .2), 1], dtype=torch.float32),\n",
    "            \"speed\": torch.tensor(0.1, dtype=torch.float32),\n",
    "            \"direction\": torch.tensor(np.pi/2 + np.random.uniform(-.5, .5), dtype=torch.float32)  } #np.pi/2\n",
    "        self.Terminal = False\n",
    "        self.trajectory = [self.car_state[\"location\"].clone()]\n",
    "      \n",
    "    def distance_to_edge(self):\n",
    "        x = self.car_state[\"location\"][0]\n",
    "        # Assuming a symmetrical road centered at x=0\n",
    "        return (3*(1-abs(x)))**2\n",
    "\n",
    "    def step(self, action):\n",
    "        action = self.actions[int(torch.as_tensor(action, dtype=torch.float32))]\n",
    "        # Update car state based on action         \n",
    "        self.car_state[\"direction\"] += np.squeeze(action)\n",
    "\n",
    "        # Move the car based on speed and direction\n",
    "        dx = self.car_state['speed'] * torch.cos(self.car_state[\"direction\"])\n",
    "        dy = self.car_state['speed'] * torch.sin(self.car_state[\"direction\"])\n",
    "        # print(f'self.car_state[\"direction\"] ={self.car_state[\"direction\"]}')\n",
    "        # print(f'     dx ={dx}, dy={dy}')\n",
    "        # print(f'     x,y ={self.car_state[\"location\"]}')\n",
    "        self.car_state[\"location\"][0] += dx\n",
    "        self.car_state[\"location\"][1] += dy\n",
    "        # print(f'     x,y ={self.car_state[\"location\"]}')\n",
    "        # print(f'     self.trajectory ={self.trajectory}')\n",
    "        # Check if the car is still on the road\n",
    "        self.Terminal = self.RoadEnv.on_road(self.car_state[\"location\"],self.car_state[\"direction\"])\n",
    "        \n",
    "        # Calculate reward\n",
    "        if self.Terminal:\n",
    "            reward = -100 # Penalty for going off-road\n",
    "            if self.car_state[\"location\"][1] > self.RoadEnv.road_length:\n",
    "                reward = 100 # get to the end\n",
    "        else:\n",
    "            reward = self.distance_to_edge() + 10* dy # Reward for staying on road and moving forward\n",
    "        self.trajectory.append(np.array(self.car_state[\"location\"]))\n",
    "\n",
    "        reward = torch.tensor(reward, dtype=torch.float32).clone()\n",
    "        new_state = self.get_state()\n",
    "        return new_state, reward, self.Terminal, {}\n",
    "    \n",
    "    def get_state(self):\n",
    "        # Get sensor readings\n",
    "        sensor_readings = self.RoadEnv.sensors_reading(self.car_state[\"location\"], self.car_state[\"direction\"], self.n_sensors , self.resolution, self.max_sensor_range)\n",
    "        return sensor_readings"
   ]
  },
  {
   "cell_type": "markdown",
   "id": "bfa9a662-fc04-4f70-81b2-b1ff7eddfc38",
   "metadata": {
    "pycharm": {
     "name": "#%% md\n"
    }
   },
   "source": [
    "# Set up"
   ]
  },
  {
   "cell_type": "code",
   "execution_count": 132,
   "id": "ffa47d6a-ca5e-4fea-b106-d96c03ab4ebe",
   "metadata": {
    "pycharm": {
     "name": "#%%\n"
    },
    "tags": []
   },
   "outputs": [],
   "source": []
  },
  {
   "cell_type": "code",
   "execution_count": 108,
   "id": "61264010",
   "metadata": {
    "collapsed": false,
    "jupyter": {
     "outputs_hidden": false
    },
    "pycharm": {
     "name": "#%%\n"
    }
   },
   "outputs": [
    {
     "name": "stdout",
     "output_type": "stream",
     "text": [
      "Car location: tensor([0., 0.])\n"
     ]
    }
   ],
   "source": [
    "print('Car location:', car_env.car_state['location'])"
   ]
  },
  {
   "cell_type": "markdown",
   "id": "89a3256d-8122-429c-95eb-b20752a07776",
   "metadata": {
    "pycharm": {
     "name": "#%% md\n"
    }
   },
   "source": [
    "# NN"
   ]
  },
  {
   "cell_type": "markdown",
   "id": "aa18ec3f-de10-4f8c-91cf-9c381216f97f",
   "metadata": {
    "pycharm": {
     "name": "#%% md\n"
    }
   },
   "source": [
    "## DQN\n",
    "\n",
    "Assume stereing has only 3-5 values"
   ]
  },
  {
   "cell_type": "code",
   "execution_count": 108,
   "id": "f3fccb81-d54c-41b8-adf4-fd7b814e7b41",
   "metadata": {
    "pycharm": {
     "name": "#%%\n"
    },
    "tags": []
   },
   "outputs": [],
   "source": []
  },
  {
   "cell_type": "code",
   "execution_count": 471,
   "id": "246b71b3-1266-4e17-ab7a-6d695c88fa0e",
   "metadata": {
    "pycharm": {
     "name": "#%%\n"
    },
    "tags": []
   },
   "outputs": [],
   "source": [
    "class PolicyNetwork(nn.Module):\n",
    "\n",
    "    def __init__(self, state_dim, action_dim, train_mode):\n",
    "        self.train_mode = train_mode\n",
    "        # Ensure dimensions are integers\n",
    "        state_dim = int(state_dim)\n",
    "        action_dim = int(action_dim)\n",
    "\n",
    "        Hidden_layers = [128, 32, 8]\n",
    "\n",
    "        super(PolicyNetwork, self).__init__()\n",
    "        self.fc1 = nn.Linear(state_dim, Hidden_layers[0])\n",
    "        self.fc2 = nn.Linear(Hidden_layers[0], Hidden_layers[1])\n",
    "        self.fc3 = nn.Linear(Hidden_layers[1], Hidden_layers[2])\n",
    "        self.fc4 = nn.Linear(Hidden_layers[2], action_dim)\n",
    "        \n",
    "    def forward(self, x):\n",
    "        x = torch.relu(self.fc1(x))\n",
    "        x = torch.relu(self.fc2(x))\n",
    "        x = torch.relu(self.fc3(x))\n",
    "        x = self.fc4(x)\n",
    "        return x\n",
    "\n",
    "\n",
    "    def get_action(self, state):\n",
    "        state = torch.FloatTensor(state).unsqueeze(0)\n",
    "        with torch.no_grad():\n",
    "            action_values = self.forward(state)\n",
    "        action = torch.argmax(action_values).item()\n",
    "\n",
    "        new_state, reward, is_terminal, _ = car_env.step(action)\n",
    "\n",
    "        return state.squeeze(0), action, reward, is_terminal, torch.FloatTensor(new_state)\n",
    "\n",
    "    def train(self, num_episodes, gamma = 0.99):\n",
    "        if self.train_mode:\n",
    "            all_rewards = []\n",
    "            fig, ax = plt.subplots(figsize=(20, 7))\n",
    "            line, = ax.plot([], [])\n",
    "            ax.set_xlabel('Episode')\n",
    "            ax.set_ylabel('Total Reward')\n",
    "            ax.set_title('Training Progress')\n",
    "\n",
    "\n",
    "            optimizer = optim.Adam(self.parameters(), lr=0.005)\n",
    "            criterion = nn.MSELoss()\n",
    "\n",
    "            for episode in range(num_episodes):\n",
    "                car_env.reset()\n",
    "                state = car_env.get_state()\n",
    "                total_reward = 0\n",
    "                while not car_env.Terminal:\n",
    "                    # state  = car_env.get_state()\n",
    "                    state_tensor, action, reward, is_terminal, next_state = self.get_action(state)\n",
    "\n",
    "\n",
    "                    # Convert to PyTorch tensors\n",
    "                    next_state_tensor = torch.FloatTensor(next_state)\n",
    "                    reward_tensor = torch.FloatTensor([reward])\n",
    "\n",
    "                    # Compute Q(s,a)\n",
    "                    q_values = self.forward(state_tensor.unsqueeze(0))\n",
    "                    q_value  = q_values[0][action]\n",
    "\n",
    "                    # Compute Q(s',a') for all actions\n",
    "                    with torch.no_grad():\n",
    "                        next_q_values = self.forward(next_state_tensor.unsqueeze(0))\n",
    "                        next_q_value = torch.max(next_q_values)\n",
    "\n",
    "                    # Compute the expected Q value\n",
    "                    expected_q_value = reward_tensor + (gamma * next_q_value * (1 - is_terminal))\n",
    "\n",
    "                    # Compute loss\n",
    "                    loss = criterion(q_value, expected_q_value)\n",
    "\n",
    "                    # Optimize the model\n",
    "                    optimizer.zero_grad()\n",
    "                    loss.backward()\n",
    "                    optimizer.step()\n",
    "\n",
    "                    total_reward += reward\n",
    "                    state = next_state\n",
    "\n",
    "                    if is_terminal:\n",
    "                        break\n",
    "                all_rewards.append(total_reward)\n",
    "                # print(f\"Episode {episode + 1}, Total Reward: {total_reward}\")\n",
    "                if episode % 20 == 0:\n",
    "\n",
    "                    # Update the plot\n",
    "                    line.set_xdata(range(len(all_rewards)))\n",
    "                    line.set_ydata(all_rewards)\n",
    "                    ax.relim()\n",
    "                    ax.autoscale_view()\n",
    "                    display.clear_output(wait=True)\n",
    "                    display.display(fig)\n",
    "                    plt.pause(0.1)\n",
    "\n",
    "                # Save the model after training\n",
    "\n",
    "            torch.save(self.state_dict(), 'car_policy.pth')\n",
    "            print(\"Model saved successfully!\")\n",
    "\n",
    "\n",
    "\n",
    "\n",
    "\n",
    "\n",
    "\n"
   ]
  },
  {
   "cell_type": "code",
   "execution_count": null,
   "id": "7087c6c3-4ec9-4de2-9c28-a5d9703024b6",
   "metadata": {
    "tags": []
   },
   "outputs": [
    {
     "data": {
      "image/png": "[encoded data removed]",
      "text/plain": [
       "<Figure size 2000x700 with 1 Axes>"
      ]
     },
     "metadata": {},
     "output_type": "display_data"
    }
   ],
   "source": [
    "# Setup\n",
    "\n",
    "# road parameters\n",
    "data_points= [(0, 0), (0, 10)] # road shape\n",
    "road_width=1\n",
    "road_length =10\n",
    "closed=False\n",
    "\n",
    "# car parameters\n",
    "n_sensors = 5         # Number of sensors\n",
    "resolution = 0.2      # sensor reolution\n",
    "max_sensor_range = 3 # sensors range\n",
    "\n",
    "\n",
    "# NN parameters\n",
    "state_dim = n_sensors  * max_sensor_range / resolution   # State dimension is the number of sensor\n",
    "action_dim = 7  # Actions for steering\n",
    "\n",
    "Action_value = np.linspace(-1,1,action_dim)\n",
    "\n",
    "road_env = RoadEnvironment(data_points, road_width,road_length, closed)\n",
    "car_env = CarEnvironment(road_env,n_sensors, resolution, max_sensor_range, Action_value)\n",
    "\n",
    "\n",
    "# Create an instance of your QNetwork\n",
    "q_network = PolicyNetwork(state_dim, action_dim, train_mode = True)\n",
    "\n",
    "# Train the network\n",
    "q_network.train(num_episodes=10000)\n",
    "\n",
    "\n",
    "\n",
    "\n",
    "visualize(road_env,car_env)\n",
    "print(f'CarEnv = {car_env.trajectory}')"
   ]
  },
  {
   "cell_type": "code",
   "execution_count": 247,
   "id": "b7ae3ef2-74f4-4b4a-a27a-f90281e76789",
   "metadata": {
    "tags": []
   },
   "outputs": [
    {
     "name": "stdout",
     "output_type": "stream",
     "text": [
      "{'location': tensor([-1.2314,  5.1314]), 'speed': tensor(0.1000), 'direction': tensor(3.1416)}\n",
      "[tensor([0., 1.])]\n"
     ]
    }
   ],
   "source": [
    "print(car_env.car_state)\n",
    "print(car_env.trajectory)"
   ]
  },
  {
   "cell_type": "code",
   "execution_count": 477,
   "id": "f1667600-705e-4f3c-a4b5-429ae7e9bbc0",
   "metadata": {
    "tags": []
   },
   "outputs": [
    {
     "name": "stderr",
     "output_type": "stream",
     "text": [
      "/var/folders/r1/x645pbgd3xj5thyk8kcpqnmw0000gn/T/ipykernel_3556/2426718489.py:52: UserWarning: To copy construct from a tensor, it is recommended to use sourceTensor.clone().detach() or sourceTensor.clone().detach().requires_grad_(True), rather than torch.tensor(sourceTensor).\n",
      "  reward = torch.tensor(reward, dtype=torch.float32).clone()\n"
     ]
    },
    {
     "name": "stdout",
     "output_type": "stream",
     "text": [
      "CarEnv = [tensor([-0.1218,  1.0000]), array([-0.12320375,  1.0999906 ], dtype=float32), array([-0.12457109,  1.1999812 ], dtype=float32), array([-0.12593843,  1.2999718 ], dtype=float32), array([-0.12730578,  1.3999624 ], dtype=float32), array([-0.12867312,  1.499953  ], dtype=float32), array([-0.13004047,  1.5999436 ], dtype=float32), array([-0.13140781,  1.6999342 ], dtype=float32), array([-0.13277516,  1.7999249 ], dtype=float32), array([-0.1341425,  1.8999155], dtype=float32), array([-0.13550985,  1.9999061 ], dtype=float32), array([-0.1368772,  2.0998967], dtype=float32), array([-0.13824454,  2.1998873 ], dtype=float32), array([-0.13961188,  2.299878  ], dtype=float32), array([-0.14097923,  2.3998685 ], dtype=float32), array([-0.14234658,  2.499859  ], dtype=float32), array([-0.14371392,  2.5998497 ], dtype=float32), array([-0.14508127,  2.6998403 ], dtype=float32), array([-0.14644861,  2.799831  ], dtype=float32), array([-0.14781596,  2.8998215 ], dtype=float32), array([-0.1491833,  2.9998121], dtype=float32), array([-0.15055065,  3.0998027 ], dtype=float32), array([-0.151918 ,  3.1997933], dtype=float32), array([-0.15328534,  3.299784  ], dtype=float32), array([-0.15465268,  3.3997746 ], dtype=float32), array([-0.15602003,  3.4997652 ], dtype=float32), array([-0.15738738,  3.5997558 ], dtype=float32), array([-0.15875472,  3.6997464 ], dtype=float32), array([-0.16012207,  3.799737  ], dtype=float32), array([-0.16148941,  3.8997276 ], dtype=float32), array([-0.16285676,  3.9997182 ], dtype=float32), array([-0.1642241,  4.099709 ], dtype=float32), array([-0.16559145,  4.1997    ], dtype=float32), array([-0.1669588,  4.2996907], dtype=float32), array([-0.16832614,  4.3996816 ], dtype=float32), array([-0.16969348,  4.4996724 ], dtype=float32), array([-0.17106083,  4.5996633 ], dtype=float32), array([-0.17242818,  4.699654  ], dtype=float32), array([-0.17379552,  4.799645  ], dtype=float32), array([-0.17516287,  4.899636  ], dtype=float32), array([-0.17653021,  4.9996266 ], dtype=float32), array([-0.17789756,  5.0996175 ], dtype=float32), array([-0.1792649,  5.1996083], dtype=float32), array([-0.18063225,  5.299599  ], dtype=float32), array([-0.1819996,  5.39959  ], dtype=float32), array([-0.18336694,  5.499581  ], dtype=float32), array([-0.18473428,  5.5995717 ], dtype=float32), array([-0.18610163,  5.6995625 ], dtype=float32), array([-0.18746898,  5.7995534 ], dtype=float32), array([-0.18883632,  5.8995442 ], dtype=float32), array([-0.19020367,  5.999535  ], dtype=float32), array([-0.19157101,  6.099526  ], dtype=float32), array([-0.19293836,  6.199517  ], dtype=float32), array([-0.1943057,  6.2995076], dtype=float32), array([-0.19567305,  6.3994985 ], dtype=float32), array([-0.1970404,  6.4994893], dtype=float32), array([-0.19840774,  6.59948   ], dtype=float32), array([-0.19977508,  6.699471  ], dtype=float32), array([-0.20114243,  6.799462  ], dtype=float32), array([-0.20250978,  6.8994527 ], dtype=float32), array([-0.20387712,  6.9994435 ], dtype=float32), array([-0.20524447,  7.0994344 ], dtype=float32), array([-0.20661181,  7.199425  ], dtype=float32), array([-0.20797916,  7.299416  ], dtype=float32), array([-0.2093465,  7.399407 ], dtype=float32), array([-0.21071385,  7.4993978 ], dtype=float32), array([-0.2120812,  7.5993886], dtype=float32), array([-0.21344854,  7.6993794 ], dtype=float32), array([-0.21481588,  7.7993703 ], dtype=float32), array([-0.21618323,  7.899361  ], dtype=float32), array([-0.21755058,  7.999352  ], dtype=float32), array([-0.21891792,  8.099342  ], dtype=float32), array([-0.22028527,  8.199333  ], dtype=float32), array([-0.22165261,  8.299324  ], dtype=float32), array([-0.22301996,  8.399315  ], dtype=float32), array([-0.2243873,  8.499306 ], dtype=float32), array([-0.22575465,  8.599297  ], dtype=float32), array([-0.227122,  8.699287], dtype=float32), array([-0.22848934,  8.799278  ], dtype=float32), array([-0.22985668,  8.899269  ], dtype=float32), array([-0.23122403,  8.99926   ], dtype=float32), array([-0.23259138,  9.099251  ], dtype=float32), array([-0.23395872,  9.199242  ], dtype=float32), array([-0.23532607,  9.2992325 ], dtype=float32), array([-0.23669341,  9.399223  ], dtype=float32), array([-0.23806076,  9.499214  ], dtype=float32), array([-0.2394281,  9.599205 ], dtype=float32), array([-0.24079545,  9.699196  ], dtype=float32), array([-0.2421628,  9.799187 ], dtype=float32), array([-0.24353014,  9.899178  ], dtype=float32), array([-0.24489748,  9.999168  ], dtype=float32), array([-0.24626483, 10.099159  ], dtype=float32)]\n"
     ]
    },
    {
     "data": {
      "image/png": "[encoded data removed]",
      "text/plain": [
       "<Figure size 1000x1000 with 1 Axes>"
      ]
     },
     "metadata": {},
     "output_type": "display_data"
    }
   ],
   "source": [
    "def run_episode(car_env, agent, max_steps):\n",
    "\n",
    "    done = False\n",
    "    total_reward = 0\n",
    "    trajectory = [car_env.car_state[\"location\"]]\n",
    "\n",
    "    for _ in range(max_steps):\n",
    "        state = car_env.get_state()\n",
    "        state_tensor, action, _, done, _ = agent.get_action(state)\n",
    "        trajectory.append(car_env.car_state[\"location\"])\n",
    "\n",
    "        if done:\n",
    "            break\n",
    "\n",
    "    print(f'CarEnv = {car_env.trajectory}')\n",
    "    return trajectory\n",
    "\n",
    "\n",
    "\n",
    "# # road parameters\n",
    "# data_points= [(0, 0), (0, 10)] # road shape\n",
    "# road_width=1\n",
    "# road_length =10\n",
    "# closed=False\n",
    "\n",
    "# # car parameters\n",
    "# n_sensors = 5         # Number of sensors\n",
    "# resolution = 0.1      # sensor reolution\n",
    "# max_sensor_range = 3 # sensors range\n",
    "\n",
    "\n",
    "# # NN parameters\n",
    "# state_dim = n_sensors  * max_sensor_range / resolution   # State dimension is the number of sensor\n",
    "# action_dim = 5  # Actions for steering\n",
    "# Action_value = .25*np.linspace(-1,1,action_dim)\n",
    "\n",
    "# Load the saved model\n",
    "loaded_agent = PolicyNetwork(state_dim, action_dim, train_mode = False)\n",
    "loaded_agent.load_state_dict(torch.load('car_policy.pth'))\n",
    "loaded_agent.eval()  # Set the network to evaluation mode\n",
    "\n",
    "\n",
    "\n",
    "road_env = RoadEnvironment(data_points, road_width,road_length, closed)\n",
    "car_env = CarEnvironment(road_env,n_sensors, resolution, max_sensor_range, Action_value)\n",
    "\n",
    "\n",
    "\n",
    "# Run and visualize test episodes\n",
    "num_test_episodes = 5\n",
    "max_steps = 100\n",
    "\n",
    "\n",
    "trajectory = run_episode(car_env, loaded_agent, max_steps)\n",
    "# print(f\"Test Episode {episode + 1}, Total Reward: {total_reward}\")\n",
    "visualize(road_env, car_env)\n",
    "    "
   ]
  },
  {
   "cell_type": "markdown",
   "id": "9c97f671-f5ec-4799-97e0-16b00cfb93e6",
   "metadata": {
    "pycharm": {
     "name": "#%% md\n"
    },
    "tags": []
   },
   "source": [
    "## DDPG"
   ]
  },
  {
   "cell_type": "code",
   "execution_count": null,
   "id": "98e13907",
   "metadata": {
    "collapsed": false,
    "jupyter": {
     "outputs_hidden": false
    },
    "pycharm": {
     "name": "#%%\n"
    }
   },
   "outputs": [],
   "source": []
  },
  {
   "cell_type": "code",
   "execution_count": null,
   "id": "0ffea86d-74a9-4354-852c-8ab53c8db113",
   "metadata": {
    "pycharm": {
     "name": "#%%\n"
    }
   },
   "outputs": [],
   "source": [
    "https://www.youtube.com/watch?v=ljHwbY9QrJU"
   ]
  },
  {
   "cell_type": "code",
   "execution_count": null,
   "id": "6af1c85a-e9b4-4ec0-8992-dca1f26d4ceb",
   "metadata": {
    "pycharm": {
     "name": "#%%\n"
    }
   },
   "outputs": [],
   "source": [
    "# actor\n",
    "\n",
    "class PolicyNetwork(nn.Module):\n",
    "    def __init__(self, state_dim, action_dim):\n",
    "        super(PolicyNetwork, self).__init__()\n",
    "        self.fc1 = nn.Linear(state_dim, 64)\n",
    "        self.fc2 = nn.Linear(64, 16)\n",
    "        self.fc3 = nn.Linear(16, action_dim)\n",
    "        \n",
    "    def forward(self, x):\n",
    "        x = torch.relu(self.fc1(x))\n",
    "        x = torch.relu(self.fc2(x))\n",
    "        return self.fc3(x) \n",
    "    \n",
    "# critic\n",
    "\n",
    "class QNetwork(nn.Module):\n",
    "    def __init__(self, state_dim, action_dim):\n",
    "        super(PolicyNetwork, self).__init__()\n",
    "        self.fc1 = nn.Linear(state_dim, 64)\n",
    "        self.fc2 = nn.Linear(64, 16)\n",
    "        self.fc3 = nn.Linear(16, action_dim)\n",
    "        \n",
    "    def forward(self, x):\n",
    "        x = torch.relu(self.fc1(x))\n",
    "        x = torch.relu(self.fc2(x))\n",
    "        return self.fc3(x) "
   ]
  },
  {
   "cell_type": "code",
   "execution_count": null,
   "id": "9a2e5163-25de-427b-9906-755870142ca8",
   "metadata": {
    "pycharm": {
     "name": "#%%\n"
    },
    "tags": []
   },
   "outputs": [],
   "source": [
    "\n",
    "\n",
    "\n",
    "class PolicyNetwork(nn.Module):\n",
    "    def __init__(self, state_dim, action_dim):\n",
    "        super(PolicyNetwork, self).__init__()\n",
    "        self.fc1 = nn.Linear(state_dim, 64)\n",
    "        self.fc2 = nn.Linear(64, 16)\n",
    "        self.fc3 = nn.Linear(16, action_dim)\n",
    "        \n",
    "    def forward(self, x):\n",
    "        x = torch.relu(self.fc1(x))\n",
    "        x = torch.relu(self.fc2(x))\n",
    "        return self.fc3(x) \n",
    "\n",
    "class Agent:\n",
    "    def __init__(self, state_dim, action_dim, lr=0.001):\n",
    "        self.policy = PolicyNetwork(state_dim, action_dim)\n",
    "        self.optimizer = optim.Adam(self.policy.parameters(), lr=lr)\n",
    "        self.state_dim = state_dim\n",
    "        self.action_dim = action_dim\n",
    "\n",
    "    def get_action(self, state):\n",
    "        state = torch.FloatTensor(state).unsqueeze(0)\n",
    "        action = self.policy(state)\n",
    "        return action.item(), torch.log(torch.abs(action) + 1e-8)  # Return action and log probability\n",
    "\n",
    "    def update(self, rewards, log_probs):\n",
    "        returns = self.compute_returns(rewards)\n",
    "        policy_loss = []\n",
    "        for log_prob, R in zip(log_probs, returns):\n",
    "            policy_loss.append(-log_prob * R)\n",
    "        policy_loss = torch.stack(policy_loss).sum()\n",
    "        \n",
    "        self.optimizer.zero_grad()\n",
    "        policy_loss.backward()\n",
    "        self.optimizer.step()\n",
    "\n",
    "    def compute_returns(self, rewards, gamma=0.99):\n",
    "        returns = []\n",
    "        R = 0\n",
    "        for r in reversed(rewards):\n",
    "            R = r + gamma * R\n",
    "            returns.insert(0, R)\n",
    "        returns = torch.tensor(returns)\n",
    "        returns = (returns - returns.mean()) / (returns.std() + 1e-8)\n",
    "        return returns\n",
    "\n",
    "def train(env, agent, num_episodes, max_steps):\n",
    "    all_rewards = []\n",
    "    fig, ax = plt.subplots(figsize=(10, 5))\n",
    "    line, = ax.plot([], [])\n",
    "    ax.set_xlabel('Episode')\n",
    "    ax.set_ylabel('Total Reward')\n",
    "    ax.set_title('Training Progress')\n",
    "    \n",
    "    for episode in range(num_episodes):\n",
    "        state = env.reset()\n",
    "        episode_reward = 0\n",
    "        log_probs = []\n",
    "        rewards = []\n",
    "\n",
    "        for step in range(max_steps):\n",
    "            action, log_prob = agent.get_action(state)\n",
    "            next_state, reward, done, _ = env.step(action)\n",
    "            log_probs.append(log_prob)\n",
    "            rewards.append(reward)\n",
    "            episode_reward += reward\n",
    "\n",
    "            if done:\n",
    "                break\n",
    "\n",
    "            state = next_state\n",
    "\n",
    "        agent.update(rewards, log_probs)\n",
    "        all_rewards.append(episode_reward)\n",
    "\n",
    "        if episode % 100 == 0:\n",
    "            # print(f\"Episode {episode}, Total Reward: {episode_reward}\")\n",
    "            # Update the plot\n",
    "            line.set_xdata(range(len(all_rewards)))\n",
    "            line.set_ydata(all_rewards)\n",
    "            ax.relim()\n",
    "            ax.autoscale_view()\n",
    "            display.clear_output(wait=True)\n",
    "            display.display(fig)\n",
    "            plt.pause(0.1)\n",
    "\n",
    "\n",
    "    return all_rewards         \n",
    "            \n",
    "# Setup and training\n",
    "\n",
    "n_sensors = 5  # Number of sensors\n",
    "state_dim = n_sensors  # State dimension is the number of sensors\n",
    "action_dim = 1  # Action dimension is 1 for steering\n",
    "\n",
    "road_env = RoadEnvironment(data_points= [(0, 0), (0, 10)], road_width=1,road_length =10, closed=False, resolution=0.1)\n",
    "car_env = CarEnvironment(road_env,n_sensors)\n",
    "\n",
    "\n",
    "\n",
    "agent = Agent(state_dim, action_dim)\n",
    "num_episodes = 1000\n",
    "max_steps = 200\n",
    "\n",
    "try:\n",
    "    all_rewards = train(car_env, agent, num_episodes, max_steps)\n",
    "    # Save the trained model\n",
    "    torch.save(agent.policy.state_dict(), 'car_policy.pth')\n",
    "    print(\"Model saved successfully!\")\n",
    "    # Final plot\n",
    "    plt.figure(figsize=(12, 6))\n",
    "    plt.plot(all_rewards)\n",
    "    plt.xlabel('Episode')\n",
    "    plt.ylabel('Total Reward')\n",
    "    plt.title('Training Progress')\n",
    "    plt.show()\n",
    "    \n",
    "    \n",
    "except Exception as e:\n",
    "    print(f\"An error occurred: {e}\")\n",
    "    print(f\"Current state: {car_env._get_state()}\")\n",
    "    print(f\"Car location: {car_env.car_state['location']}\")\n",
    "    print(f\"Car direction: {car_env.car_state['direction']}\")\n",
    "    print(f'CarEnv = {car_env.trajectory}')\n",
    "\n",
    "visualize(road_env,car_env)"
   ]
  },
  {
   "cell_type": "markdown",
   "id": "e844ff37-2366-43b7-b607-b14a5d9b2ed1",
   "metadata": {
    "pycharm": {
     "name": "#%% md\n"
    }
   },
   "source": [
    "# Train"
   ]
  },
  {
   "cell_type": "markdown",
   "id": "de82541c-b22a-4f89-a4fe-24ce5be611fd",
   "metadata": {
    "pycharm": {
     "name": "#%% md\n"
    },
    "tags": []
   },
   "source": [
    "# Test"
   ]
  },
  {
   "cell_type": "code",
   "execution_count": 146,
   "id": "464d3aa0-bddf-4ce6-a1ee-31264d1e2ee8",
   "metadata": {
    "pycharm": {
     "name": "#%%\n"
    },
    "tags": []
   },
   "outputs": [],
   "source": [
    "def run_episode(env, agent, max_steps):\n",
    "    state = env.reset()\n",
    "    done = False\n",
    "    total_reward = 0\n",
    "    trajectory = [env.car_state[\"location\"].copy()]\n",
    "\n",
    "    for _ in range(max_steps):\n",
    "        action, _ = agent.get_action(state)\n",
    "        next_state, reward, done, _ = env.step(action)\n",
    "        total_reward += reward\n",
    "        trajectory.append(env.car_state[\"location\"])\n",
    "\n",
    "        if done:\n",
    "            break\n",
    "\n",
    "        state = next_state\n",
    "\n",
    "    return trajectory, total_reward"
   ]
  },
  {
   "cell_type": "code",
   "execution_count": 147,
   "id": "8c5e4ded-d0b4-4898-91b0-0cdaa21d6750",
   "metadata": {
    "pycharm": {
     "name": "#%%\n"
    },
    "tags": []
   },
   "outputs": [
    {
     "ename": "NameError",
     "evalue": "name 'Agent' is not defined",
     "output_type": "error",
     "traceback": [
      "\u001b[0;31m---------------------------------------------------------------------------\u001b[0m",
      "\u001b[0;31mNameError\u001b[0m                                 Traceback (most recent call last)",
      "Cell \u001b[0;32mIn[147], line 2\u001b[0m\n\u001b[1;32m      1\u001b[0m \u001b[38;5;66;03m# Load the saved model\u001b[39;00m\n\u001b[0;32m----> 2\u001b[0m loaded_agent \u001b[38;5;241m=\u001b[39m Agent(state_dim, action_dim)\n\u001b[1;32m      3\u001b[0m loaded_agent\u001b[38;5;241m.\u001b[39mpolicy\u001b[38;5;241m.\u001b[39mload_state_dict(torch\u001b[38;5;241m.\u001b[39mload(\u001b[38;5;124m'\u001b[39m\u001b[38;5;124mcar_policy.pth\u001b[39m\u001b[38;5;124m'\u001b[39m))\n\u001b[1;32m      4\u001b[0m loaded_agent\u001b[38;5;241m.\u001b[39mpolicy\u001b[38;5;241m.\u001b[39meval()  \u001b[38;5;66;03m# Set the network to evaluation mode\u001b[39;00m\n",
      "\u001b[0;31mNameError\u001b[0m: name 'Agent' is not defined"
     ]
    }
   ],
   "source": [
    "# Load the saved model\n",
    "loaded_agent = Agent(state_dim, action_dim)\n",
    "loaded_agent.policy.load_state_dict(torch.load('car_policy.pth'))\n",
    "loaded_agent.policy.eval()  # Set the network to evaluation mode\n",
    "\n",
    "n_sensors = 5  # Number of sensors\n",
    "state_dim = n_sensors  # State dimension is the number of sensors\n",
    "action_dim = 1  # Action dimension is 1 for steering\n",
    "\n",
    "road_env = RoadEnvironment(data_points= [(0, 0), (0, 10)], road_width=1,road_length =15, closed=False, resolution=0.1)\n",
    "car_env = CarEnvironment(road_env,n_sensors)\n",
    "\n",
    "# Run and visualize test episodes\n",
    "num_test_episodes = 5\n",
    "max_steps = 20\n",
    "\n",
    "for episode in range(num_test_episodes):\n",
    "    trajectory, total_reward = run_episode(car_env, loaded_agent, max_steps)\n",
    "    print(f\"Test Episode {episode + 1}, Total Reward: {total_reward}\")\n",
    "    visualize(RoadEnv,CarEnv)\n",
    "\n",
    "\n"
   ]
  },
  {
   "cell_type": "code",
   "execution_count": null,
   "id": "b79e828f-9fb0-47b4-941e-41b248fb17cf",
   "metadata": {
    "pycharm": {
     "name": "#%%\n"
    }
   },
   "outputs": [],
   "source": []
  },
  {
   "cell_type": "code",
   "execution_count": null,
   "id": "15ac2531-4e87-4273-8794-2aae8582fe4e",
   "metadata": {
    "pycharm": {
     "name": "#%%\n"
    },
    "tags": []
   },
   "outputs": [],
   "source": [
    "RoadEnv = RoadEnvironment(data_points= [(0, 0), (0, 10)], road_width=1,road_length =15, closed=False, resolution=0.1)\n",
    "CarEnv  = CarEnvironment(RoadEnv,n_sensors =5)\n",
    "car_agent = CarAgent()\n",
    "\n",
    "\n",
    "\n",
    "while not CarEnv.Terminal:\n",
    "    action = car_agent.act(CarEnv.car_state)\n",
    "    CarEnv.step(action)\n",
    "\n",
    "\n",
    "print(f'CarEnv = {CarEnv.trajectory}')\n",
    "visualize(RoadEnv,CarEnv)"
   ]
  },
  {
   "cell_type": "code",
   "execution_count": null,
   "id": "403806a3-5550-4538-8cc9-24d0e52cf4a3",
   "metadata": {
    "pycharm": {
     "name": "#%%\n"
    },
    "tags": []
   },
   "outputs": [],
   "source": [
    "random.uniform(-.4, .4)+np.pi/2 "
   ]
  },
  {
   "cell_type": "code",
   "execution_count": null,
   "id": "0b13d436-613c-464d-aba2-d4bf3aa1e9a2",
   "metadata": {
    "pycharm": {
     "name": "#%%\n"
    }
   },
   "outputs": [],
   "source": [
    "x = np.linspace(-1,1,10)\n",
    "for i in x:\n",
    "    print((5*(1-abs(i)))**2)"
   ]
  },
  {
   "cell_type": "code",
   "execution_count": null,
   "id": "39dd3413-40ac-44a4-b5ec-e5e39a365395",
   "metadata": {
    "pycharm": {
     "name": "#%%\n"
    },
    "tags": []
   },
   "outputs": [],
   "source": []
  },
  {
   "cell_type": "code",
   "execution_count": null,
   "id": "f01fe852-297d-4766-bc93-d1583d133aaf",
   "metadata": {
    "pycharm": {
     "name": "#%%\n"
    }
   },
   "outputs": [],
   "source": []
  }
 ],
 "metadata": {
  "kernelspec": {
   "display_name": "Python 3 (ipykernel)",
   "language": "python",
   "name": "python3"
  },
  "language_info": {
   "codemirror_mode": {
    "name": "ipython",
    "version": 3
   },
   "file_extension": ".py",
   "mimetype": "text/x-python",
   "name": "python",
   "nbconvert_exporter": "python",
   "pygments_lexer": "ipython3",
   "version": "3.11.5"
  }
 },
 "nbformat": 4,
 "nbformat_minor": 5
}
