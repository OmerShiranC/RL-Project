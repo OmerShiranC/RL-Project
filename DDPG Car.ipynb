{
 "cells": [
  {
   "cell_type": "code",
   "execution_count": 1973,
   "id": "c1db7971-75cd-4351-abcf-210f27e229ef",
   "metadata": {
    "pycharm": {
     "name": "#%%\n"
    },
    "tags": []
   },
   "outputs": [],
   "source": [
    "import numpy as np\n",
    "import matplotlib.pyplot as plt\n",
    "from matplotlib.path import Path\n",
    "from matplotlib.patches import PathPatch\n",
    "import random\n",
    "import torch\n",
    "import torch.nn as nn\n",
    "import math\n",
    "import torch.optim as optim\n",
    "from collections import deque\n",
    "from IPython import display\n",
    "import json\n",
    "import inspect\n",
    "\n",
    "from scipy.optimize import minimize_scalar\n"
   ]
  },
  {
   "cell_type": "markdown",
   "id": "8354e9dd-1567-4456-8d19-10c1bdae49e6",
   "metadata": {},
   "source": [
    "# Line road"
   ]
  },
  {
   "cell_type": "code",
   "execution_count": null,
   "id": "8724f139-d68f-45d9-8f0a-f826d691ba34",
   "metadata": {},
   "outputs": [],
   "source": [
    "def visualize(road_env,car_env):\n",
    "    \"\"\"Visualize the road environment\"\"\"\n",
    "    fig, ax = plt.subplots(figsize=(10, 10))\n",
    "\n",
    "    # Plot center line\n",
    "    center = np.array(road_env.center)\n",
    "    ax.plot(center[:, 0], center[:, 1], 'w--', linewidth=1.5, label='Center')\n",
    "\n",
    "    # Plot left edge\n",
    "    left = np.array(road_env.left_edge)\n",
    "    ax.plot(left[:, 0], left[:, 1], '-', color = 'gold', linewidth=2, label='Left Edge')\n",
    "\n",
    "    # Plot right edge\n",
    "    right = np.array(road_env.right_edge)\n",
    "    ax.plot(right[:, 0], right[:, 1], '-', color = 'gold', linewidth=2, label='Right Edge')\n",
    "\n",
    "    # Fill the road area\n",
    "    road_polygon = np.vstack((left, right[::-1]))\n",
    "    ax.fill(road_polygon[:, 0], road_polygon[:, 1], color='gray', alpha=0.3)\n",
    "    \n",
    "    if car_env:\n",
    "        # Car location and direction as arrow\n",
    "        car_loc_x = car_env.loc[0]\n",
    "        car_loc_y = car_env.loc[1]\n",
    "        car_dir   = car_env.direction\n",
    "\n",
    "        arrow = plt.arrow(car_loc_x, car_loc_y, 0.2 * np.cos(car_dir), 0.2 * np.sin(car_dir), color='b', width=0.02)\n",
    "\n",
    "        ax.add_patch(arrow)\n",
    "\n",
    "        # Car trajectory\n",
    "        trajectory = car_env.trajectory.copy()  # Get a copy of the trajectory\n",
    "        if len(trajectory) > 1:  # Check if there's more than one point\n",
    "            x_traj, y_traj = zip(*trajectory)  # Unpack coordinates if trajectory has points\n",
    "            ax.plot(x_traj, y_traj, 'r-', linewidth=1, label='Trajectory')\n",
    "\n",
    "    # Set plot properties\n",
    "    ax.set_aspect('equal', 'box')\n",
    "    ax.set_xlabel('X')\n",
    "    ax.set_ylabel('Y')\n",
    "    ax.set_title('Road Environment')\n",
    "    # ax.legend(loc='upper right')\n",
    "    ax.grid(True)\n",
    "\n",
    "    # Adjust the plot limits\n",
    "    all_points = np.vstack((road_env.center, road_env.left_edge, road_env.right_edge))\n",
    "    margin = road_env.road_width\n",
    "    ax.set_xlim(min(all_points[:, 0]) - margin, max(all_points[:, 0]) + margin)\n",
    "    ax.set_ylim(min(all_points[:, 1]) - margin, max(all_points[:, 1]) + margin)\n",
    "\n",
    "    plt.show()\n",
    "    \n",
    "    class RoadEnvironment:\n",
    "    def __init__(self, data_points, road_width, road_length, closed):\n",
    "        \n",
    "        self.data_points = np.array(data_points)\n",
    "        self.road_width  = road_width\n",
    "        self.road_length = road_length\n",
    "        self.closed      = closed\n",
    "        \n",
    "        self.generate_road_path()        \n",
    "        \n",
    "    def generate_road_path(self):\n",
    "        self.center = [(0,0),(0,self.road_length)]\n",
    "        self.left_edge = [(self.road_width,0),(self.road_width,self.road_length)]\n",
    "        self.right_edge = [(-self.road_width,0),(-self.road_width,self.road_length)]\n",
    "        \n",
    "    def on_road(self,loc,direction):\n",
    "        x, y = loc[0], loc[1]\n",
    "        # Check road boundaries\n",
    "        return not (-road_width < x < road_width and 0 <= y < road_length)\n",
    "\n",
    "    def distans_from_center(self,loc):\n",
    "        # Assuming a symmetrical road centered at x=0\n",
    "        return abs(loc[0])\n",
    "    \n",
    "    def sensor_distanse(self, loc, direction, resolution, max_sensor_range):\n",
    "        num_states = int(max_sensor_range / resolution)\n",
    "        temp_loc = loc.copy()\n",
    "        dis = 0\n",
    "        while self.on_road(temp_loc, direction) and dis < max_sensor_range:\n",
    "            temp_loc[0] += resolution * np.cos(direction)\n",
    "            temp_loc[1] += resolution * np.sin(direction)\n",
    "            dis += resolution\n",
    "            \n",
    "        sensore_state = torch.zeros(num_states)\n",
    "        sensore_state[int(dis/resolution-1)] = 1\n",
    "        return sensore_state"
   ]
  },
  {
   "cell_type": "markdown",
   "id": "875a4901-8afb-4b97-8bca-152b93abffd2",
   "metadata": {
    "pycharm": {
     "name": "#%% md\n"
    },
    "tags": []
   },
   "source": [
    "# Curved road (dev)"
   ]
  },
  {
   "cell_type": "code",
   "execution_count": 1876,
   "id": "8a9166ce-8330-40ae-acce-463a18691e5b",
   "metadata": {
    "pycharm": {
     "name": "#%%\n"
    },
    "tags": []
   },
   "outputs": [],
   "source": [
    "def visualizeV2(road_env, car_env):\n",
    "    \"\"\"Visualize the road environment\"\"\"\n",
    "    fig, ax = plt.subplots(figsize=(10, 10))\n",
    "\n",
    "    # Plot the road based on the function\n",
    "    t = np.linspace(0, road_env.road_length, road_env.road_resulotion)\n",
    "    road_path = road_env.road_path\n",
    "    ax.plot(road_path[:, 0], road_path[:, 1], 'w--', linewidth=1.5, label='Center')\n",
    "\n",
    "    # Calculate road edges based on road width\n",
    "    road_width_half = road_env.road_width / 2\n",
    "    left_edge  = road_path - np.array([road_width_half, 0])\n",
    "    right_edge = road_path + np.array([road_width_half, 0])\n",
    "\n",
    "    # Plot left and right edges\n",
    "    ax.plot(left_edge[:, 0], left_edge[:, 1], '-', color='gold', linewidth=2, label='Left Edge')\n",
    "    ax.plot(right_edge[:, 0], right_edge[:, 1], '-', color='gold', linewidth=2, label='Right Edge')\n",
    "\n",
    "    # Fill the road area\n",
    "    road_polygon = np.vstack((left_edge, right_edge[::-1]))\n",
    "    ax.fill(road_polygon[:, 0], road_polygon[:, 1], color='gray', alpha=0.3)\n",
    "\n",
    "    if car_env:\n",
    "        # Car location and direction as arrow\n",
    "        car_loc_x = car_env.loc[0]\n",
    "        car_loc_y = car_env.loc[1]\n",
    "        car_dir = car_env.direction\n",
    "\n",
    "        arrow = plt.arrow(car_loc_x, car_loc_y, 0.2 * np.cos(car_dir), 0.2 * np.sin(car_dir), color='b', width=0.02)\n",
    "\n",
    "        ax.add_patch(arrow)\n",
    "\n",
    "        # Car trajectory\n",
    "        trajectory = car_env.trajectory.copy()  # Get a copy of the trajectory\n",
    "        if len(trajectory) > 1:  # Check if there's more than one point\n",
    "            x_traj, y_traj = zip(*trajectory)  # Unpack coordinates if trajectory has points\n",
    "            ax.plot(x_traj, y_traj, 'r-', linewidth=1, label='Trajectory')\n",
    "        \n",
    "\n",
    "    # Set plot properties\n",
    "    ax.set_aspect('equal', 'box')\n",
    "    ax.set_xlabel('X')\n",
    "    ax.set_ylabel('Y')\n",
    "    ax.set_title('Road Environment')\n",
    "    # ax.legend(loc='upper right')\n",
    "    ax.grid(True)\n",
    "\n",
    "    # Adjust the plot limits\n",
    "    all_points = np.vstack((road_path, left_edge, right_edge))\n",
    "    margin = road_env.road_width / 2\n",
    "    ax.set_xlim(min(all_points[:, 0]) - margin, max(all_points[:, 0]) + margin)\n",
    "    ax.set_ylim(min(all_points[:, 1]) - margin, max(all_points[:, 1]) + margin)\n",
    "\n",
    "    plt.show()\n",
    "\n",
    "\n",
    "class RoadEnvironmentV2:\n",
    "    def __init__(self, data_points, road_width, road_length, closed):\n",
    "        \n",
    "        self.road_function = data_points\n",
    "        self.road_width    = road_width\n",
    "        self.road_length   = road_length\n",
    "        self.closed        = closed\n",
    "        self.road_resulotion = 1000\n",
    "        \n",
    "        self.generate_road_path()        \n",
    "        \n",
    "    def generate_road_path(self):\n",
    "        t = np.linspace(0, self.road_length, self.road_resulotion)\n",
    "        self.road_path = np.array([self.road_function(ti) for ti in t])\n",
    "        \n",
    "    def distance_from_center(self, loc):\n",
    "        def distance_to_road(t):\n",
    "            road_point = self.road_function(t)\n",
    "            return np.linalg.norm(np.array(loc) - road_point)\n",
    "        \n",
    "        # Find the minimum distance\n",
    "        result = minimize_scalar(distance_to_road, bounds=(0, self.road_length), method='bounded')\n",
    "        return result.fun \n",
    "        \n",
    "    def on_road(self, loc, direction): \n",
    "        distance = self.distance_from_center(loc)\n",
    "        return distance <= self.road_width / 2\n",
    "    \n",
    "    def sensor_distanse(self, loc, direction, resolution, max_sensor_range):\n",
    "        num_states = int(max_sensor_range / resolution)\n",
    "        temp_loc = loc.copy()\n",
    "        dis = 0\n",
    "        while self.on_road(temp_loc,direction) and dis < max_sensor_range:\n",
    "            temp_loc[0] += resolution * np.cos(direction)\n",
    "            temp_loc[1] += resolution * np.sin(direction)\n",
    "            dis += resolution\n",
    "            \n",
    "        sensore_state = torch.zeros(num_states)\n",
    "        sensore_state[int(dis/resolution-1)] = 1\n",
    "        return sensore_state\n",
    "\n"
   ]
  },
  {
   "cell_type": "code",
   "execution_count": null,
   "id": "43dbb152-fb08-4cea-8834-7193f96183e3",
   "metadata": {},
   "outputs": [],
   "source": [
    "# example \n",
    "def road_function(x):\n",
    "    return np.array([10 * (1-np.cos(0.05 * x)), x])\n",
    "\n",
    "road_env2 = RoadEnvironmentV2(road_function, 1, 15, False)\n",
    "visualizeV2(road_env2, car_env=None)"
   ]
  },
  {
   "cell_type": "markdown",
   "id": "6e986698-2ca1-4d8a-b495-78a3fd1b573a",
   "metadata": {},
   "source": [
    "# Car env"
   ]
  },
  {
   "cell_type": "code",
   "execution_count": 1959,
   "id": "b5e7fc89-21ef-47c9-ac3d-9214fedbec98",
   "metadata": {
    "pycharm": {
     "name": "#%%\n"
    },
    "tags": []
   },
   "outputs": [],
   "source": [
    "class CarEnvironment:\n",
    "    def __init__(self, road_env, n_sensors, resolution, max_sensor_range, actions):\n",
    "        self.actions = actions\n",
    "        self.road_env = road_env     \n",
    "        \n",
    "        # sensor parameters\n",
    "        self.n_sensors = n_sensors\n",
    "        self.resolution = resolution\n",
    "        self.max_sensor_range = max_sensor_range\n",
    "        \n",
    "        \n",
    "        self.reset()\n",
    "        \n",
    "    def reset(self):\n",
    "        self.loc       = [np.random.uniform(-.2, .2),0.2+np.random.uniform(-.2, .2)]\n",
    "        self.speed     = 0.1\n",
    "        self.direction = np.pi/2 + np.random.uniform(-.3, .3)\n",
    "        self.Terminal = False\n",
    "        self.trajectory = [self.loc.copy()]\n",
    "      \n",
    "    def step(self, action_number):\n",
    "        action = self.actions[action_number]\n",
    "        # Update car state based on action         \n",
    "        self.direction += action\n",
    "    \n",
    "        # Move the car based on speed and direction\n",
    "        dx = self.speed * np.cos(self.direction)\n",
    "        dy = self.speed * np.sin(self.direction)\n",
    "        self.loc[0] += dx\n",
    "        self.loc[1] += dy\n",
    "\n",
    "        self.Terminal = not self.road_env.on_road(self.loc, self.direction)\n",
    "    \n",
    "        # Calculate reward\n",
    "        if self.Terminal:\n",
    "            reward = -10 # Penalty for going off-road\n",
    "            if self.loc[1] > self.road_env.road_length:\n",
    "                reward = 50*(2-self.road_env.distance_from_center(self.loc)) # get to the end\n",
    "        else:\n",
    "            reward = (1-self.road_env.distance_from_center(self.loc)) + 30* dy # Reward for staying on road and moving forward\n",
    "        self.trajectory.append(self.loc.copy())\n",
    "\n",
    "        new_state = self.get_state()\n",
    "        return new_state, reward, self.Terminal\n",
    "    \n",
    "    def get_state(self):\n",
    "        # Get sensors readings\n",
    "        sensor_readings = []\n",
    "        min_dir = self.direction - np.pi / 2\n",
    "        max_dir = self.direction + np.pi / 2\n",
    "        directions = np.linspace(min_dir, max_dir, self.n_sensors)\n",
    "        for sensor_direction in directions:\n",
    "            sensor_readings.append(self.road_env.sensor_distanse(self.loc, sensor_direction , self.resolution, self.max_sensor_range))\n",
    "        return torch.vstack(sensor_readings)"
   ]
  },
  {
   "cell_type": "markdown",
   "id": "bfa9a662-fc04-4f70-81b2-b1ff7eddfc38",
   "metadata": {
    "pycharm": {
     "name": "#%% md\n"
    }
   },
   "source": [
    "# Set up"
   ]
  },
  {
   "cell_type": "code",
   "execution_count": 1961,
   "id": "8ab4044c-bcf6-4aa6-8206-05313f8aaafc",
   "metadata": {
    "tags": []
   },
   "outputs": [
    {
     "name": "stdout",
     "output_type": "stream",
     "text": [
      "[0.7544338325797317, 0.6322151093044902]\n"
     ]
    },
    {
     "data": {
      "image/png": "[encoded data removed]",
      "text/plain": [
       "<Figure size 1000x1000 with 1 Axes>"
      ]
     },
     "metadata": {},
     "output_type": "display_data"
    }
   ],
   "source": [
    "# Setup\n",
    "\n",
    "# road parameters\n",
    "def road_function(x):\n",
    "    return np.array([5 * (1-np.cos(0.4 * x)), x])\n",
    "data_points= [(0, 0), (0, 10)] # road shape\n",
    "road_width=2\n",
    "road_length =20\n",
    "closed=False\n",
    "\n",
    "#sensors\n",
    "n_sensors = 7\n",
    "resolution = .5\n",
    "max_sensor_range = 5\n",
    "\n",
    "# NN parameters\n",
    "state_dim = n_sensors  * max_sensor_range / resolution   # State dimension is the number of sensor\n",
    "action_dim = 5  # Actions for steering\n",
    "\n",
    "#Actions\n",
    "actions = .15*np.linspace(-1,1,action_dim)\n",
    "\n",
    "\n",
    "\n",
    "road_env2 = RoadEnvironmentV2(road_function, road_width, road_length, False)\n",
    "car_env = CarEnvironment(road_env2, n_sensors, resolution, max_sensor_range, actions)\n",
    "\n",
    "\n",
    "for i in range(11):\n",
    "    car_env.step(0)\n",
    "print(car_env.loc)\n",
    "visualizeV2(road_env2, car_env)"
   ]
  },
  {
   "cell_type": "markdown",
   "id": "89a3256d-8122-429c-95eb-b20752a07776",
   "metadata": {
    "pycharm": {
     "name": "#%% md\n"
    }
   },
   "source": [
    "# NN"
   ]
  },
  {
   "cell_type": "markdown",
   "id": "aa18ec3f-de10-4f8c-91cf-9c381216f97f",
   "metadata": {
    "pycharm": {
     "name": "#%% md\n"
    }
   },
   "source": [
    "## DQN\n",
    "\n",
    "Assume stereing is descrete"
   ]
  },
  {
   "cell_type": "code",
   "execution_count": 1979,
   "id": "246b71b3-1266-4e17-ab7a-6d695c88fa0e",
   "metadata": {
    "pycharm": {
     "name": "#%%\n"
    },
    "tags": []
   },
   "outputs": [],
   "source": [
    "class PolicyNetwork(nn.Module):\n",
    "    def __init__(self, car_env, state_dim, action_dim, train_mode, epsilon = .25):\n",
    "        self.car_env = car_env\n",
    "        self.train_mode = train_mode\n",
    "        self.epsilon = epsilon\n",
    "        self.input_dim  = int(state_dim)\n",
    "        self.output_dim = int(action_dim)\n",
    "        Hidden_layers = [32, 8]\n",
    "\n",
    "        super(PolicyNetwork, self).__init__()\n",
    "        self.fc1 = nn.Linear(self.input_dim, Hidden_layers[0])\n",
    "        self.fc2 = nn.Linear(Hidden_layers[0], Hidden_layers[1])\n",
    "        self.fc3 = nn.Linear(Hidden_layers[1], self.output_dim)\n",
    "        \n",
    "    def forward(self, x):\n",
    "        x = x.view(-1, self.input_dim)\n",
    "        x = torch.relu(self.fc1(x))\n",
    "        x = torch.relu(self.fc2(x))\n",
    "        x = self.fc3(x)\n",
    "        return x\n",
    "\n",
    "    def get_action(self, state):\n",
    "        if np.random.rand() < self.epsilon and self.train_mode: # epsilon greedy\n",
    "            action = np.random.randint(action_dim)\n",
    "        else:\n",
    "            state = torch.FloatTensor(state).unsqueeze(0)\n",
    "            with torch.no_grad():\n",
    "                action_values = self.forward(state)\n",
    "            action = torch.argmax(action_values).item()\n",
    "        new_state, reward, is_terminal = self.car_env.step(action)\n",
    "\n",
    "        return state, action, reward, is_terminal, new_state\n",
    "\n",
    "    def train(self, num_episodes, gamma = .95, alpha = .95):\n",
    "        if self.train_mode:\n",
    "            all_rewards = []\n",
    "            fig, ax = plt.subplots(figsize=(20, 7))\n",
    "            line, = ax.plot([], [])\n",
    "            ax.set_xlabel('Episode')\n",
    "            ax.set_ylabel('Total Reward')\n",
    "            ax.set_title('Training Progress')\n",
    "\n",
    "\n",
    "            optimizer = optim.Adam(self.parameters(), lr=0.005)\n",
    "            # Learning rate scheduler\n",
    "            # scheduler = optim.lr_scheduler.StepLR(optimizer, step_size=500, gamma=0.95)\n",
    "            criterion = nn.MSELoss()\n",
    "\n",
    "            for episode in range(num_episodes):\n",
    "                if episode % 100 == 0:\n",
    "                    self.epsilon = min([.9*self.epsilon,0.005])\n",
    "                \n",
    "                \n",
    "                self.car_env.reset()\n",
    "                state = self.car_env.get_state()\n",
    "                total_reward = 0\n",
    "                total_loss =0\n",
    "                while not self.car_env.Terminal:\n",
    "                    \n",
    "                    state_tensor, action, reward, is_terminal, next_state = self.get_action(state)\n",
    "                    # # Ensure state_tensor is 2D\n",
    "                    # if state_tensor.dim() == 1:\n",
    "                    #     state_tensor = state_tensor.unsqueeze(0)\n",
    "                    \n",
    "                    # Convert to PyTorch tensors\n",
    "                    reward_tensor = torch.tensor([reward], dtype=torch.float)\n",
    "                    is_terminal_tensor = torch.tensor([is_terminal], dtype=torch.float)\n",
    "                    \n",
    "                    # Compute Q(s,a)\n",
    "                    q_values = self.forward(state_tensor)\n",
    "                    q_value = q_values[0, action]\n",
    "                    \n",
    "                    # Compute Q(s',a') for all actions\n",
    "                    with torch.no_grad():\n",
    "                        next_q_values = self.forward(next_state)\n",
    "                        next_q_value = next_q_values.max()\n",
    "                    \n",
    "                    # Compute the expected Q value\n",
    "                    target_q_value = reward_tensor + gamma * next_q_value * (1 - is_terminal_tensor)\n",
    "                    expected_q_values = q_values.clone()\n",
    "                    expected_q_values[0, action] = q_value + alpha * (target_q_value - q_value)\n",
    "                   \n",
    "\n",
    "                    # Compute loss\n",
    "                    loss = criterion(q_values, expected_q_values.detach())\n",
    "\n",
    "                    # Optimize the model\n",
    "                    optimizer.zero_grad()\n",
    "                    loss.backward()\n",
    "                    optimizer.step()\n",
    "\n",
    "                    total_reward += reward\n",
    "                    state = next_state\n",
    "\n",
    "                    if is_terminal:\n",
    "                        break\n",
    "                all_rewards.append(total_reward)\n",
    "                # print(f\"Episode {episode + 1}, Total Reward: {total_reward}\")\n",
    "                if episode % 10 == 0:\n",
    "                    window_size =9\n",
    "                    smoothed_data = all_rewards #np.convolve(all_rewards, np.ones(window_size), mode='same') / window_size\n",
    "                    # Update the plot\n",
    "                    line.set_xdata(range(len(smoothed_data)))\n",
    "                    line.set_ydata(smoothed_data)\n",
    "                    ax.relim()\n",
    "                    ax.autoscale_view()\n",
    "                    display.clear_output(wait=True)\n",
    "                    display.display(fig)\n",
    "                    plt.pause(0.1)\n",
    "\n",
    "                # Save the model after training\n",
    "\n",
    "            torch.save(self.state_dict(), 'car_policy.pth')\n",
    "            print(\"Model saved successfully!\")\n",
    "\n",
    "\n",
    "\n",
    "\n",
    "\n",
    "\n",
    "\n"
   ]
  },
  {
   "cell_type": "code",
   "execution_count": null,
   "id": "41545a7f-2526-484b-ad28-399ccf280aec",
   "metadata": {},
   "outputs": [],
   "source": [
    "# Setup\n",
    "\n",
    "# road parameters\n",
    "def road_function(x):\n",
    "    return np.array([5 * (1-np.cos(0.4 * x)), x])\n",
    "data_points= [(0, 0), (0, 10)] # road shape\n",
    "road_width=2\n",
    "road_length =20\n",
    "closed=False\n",
    "\n",
    "# car parameters\n",
    "n_sensors = 7         # Number of sensors\n",
    "resolution = 0.2      # sensor reolution\n",
    "max_sensor_range = 3 # sensors range\n",
    "\n",
    "\n",
    "# NN parameters\n",
    "state_dim = n_sensors  * max_sensor_range / resolution   # State dimension is the number of sensor\n",
    "action_dim = 5  # Actions for steering\n",
    "\n",
    "Action_value = 0.1*np.linspace(-1,1,action_dim)\n",
    "\n",
    "road_env2 = RoadEnvironmentV2(road_function, road_width, road_length, False)\n",
    "car_env = CarEnvironment(road_env2, n_sensors, resolution, max_sensor_range, actions)\n",
    "\n",
    "\n",
    "# Create an instance of your QNetwork\n",
    "q_network = PolicyNetwork(car_env, state_dim, action_dim, train_mode = True)\n",
    "\n",
    "# Train the network\n",
    "q_network.train(num_episodes=1000)\n",
    "\n",
    "\n",
    "\n",
    "\n",
    "visualizeV2(road_env2,car_env)\n",
    "# print(f'CarEnv = {car_env.trajectory}')"
   ]
  },
  {
   "cell_type": "code",
   "execution_count": 2025,
   "id": "a4ac7e1c-0d89-4718-8849-782fe4a19356",
   "metadata": {
    "tags": []
   },
   "outputs": [
    {
     "data": {
      "image/png": "[encoded data removed]",
      "text/plain": [
       "<Figure size 2000x700 with 1 Axes>"
      ]
     },
     "metadata": {},
     "output_type": "display_data"
    },
    {
     "name": "stdout",
     "output_type": "stream",
     "text": [
      "Model saved successfully!\n",
      "Settings saved to 'settings.json'\n",
      "Model saved to 'q_network_model.pth'\n"
     ]
    }
   ],
   "source": [
    "def load_existing_model_and_train():\n",
    "    # Load settings\n",
    "    with open('settings.json', 'r') as f:\n",
    "        loaded_settings = json.load(f)\n",
    "\n",
    "    # Recreate the road function\n",
    "    exec(loaded_settings[\"road_function\"])\n",
    "\n",
    "    # Recreate the environment and network using loaded settings\n",
    "    road_env2 = RoadEnvironmentV2(road_function, loaded_settings[\"road_width\"], loaded_settings[\"road_length\"], loaded_settings[\"closed\"])\n",
    "    car_env = CarEnvironment(road_env2, loaded_settings[\"n_sensors\"], loaded_settings[\"resolution\"], loaded_settings[\"max_sensor_range\"], loaded_settings[\"Action_value\"])\n",
    "    state_dim = int(loaded_settings[\"n_sensors\"] * loaded_settings[\"max_sensor_range\"] / loaded_settings[\"resolution\"])\n",
    "\n",
    "    # Create a new instance of the network\n",
    "    q_network = PolicyNetwork(car_env, state_dim, loaded_settings[\"action_dim\"], train_mode=True)\n",
    "\n",
    "    # Load the saved model parameters\n",
    "    q_network.load_state_dict(torch.load('q_network_model.pth'))\n",
    "\n",
    "    print(\"Settings, road function, and model loaded successfully\")\n",
    "\n",
    "    # Ask for number of episodes to train\n",
    "    num_episodes = int(input(\"Enter the number of episodes to train: \"))\n",
    "    \n",
    "    # Continue training\n",
    "    q_network.train(num_episodes=num_episodes)\n",
    "\n",
    "    # Update the settings with new total episodes\n",
    "    loaded_settings[\"num_episodes\"] += num_episodes\n",
    "\n",
    "    # Save updated settings\n",
    "    with open('settings.json', 'w') as f:\n",
    "        json.dump(loaded_settings, f, indent=4)\n",
    "\n",
    "    # Save the updated model\n",
    "    torch.save(q_network.state_dict(), 'q_network_model.pth')\n",
    "\n",
    "    print(f\"Model trained for additional {num_episodes} episodes\")\n",
    "    print(\"Updated settings saved to 'settings.json'\")\n",
    "    print(\"Updated model saved to 'q_network_model.pth'\")\n",
    "\n",
    "    return loaded_settings, road_env2, car_env, q_network\n",
    "\n",
    "def train_new_model():\n",
    "    # Setup\n",
    "    # road parameters\n",
    "    def road_function(x):\n",
    "        return np.array([5 * (1-np.cos(0.4 * x)), x])\n",
    "\n",
    "    # Settings dictionary\n",
    "    settings = {\n",
    "        \"road_function\": inspect.getsource(road_function),\n",
    "        \"road_width\": 2,\n",
    "        \"road_length\": 20,\n",
    "        \"closed\": False,\n",
    "        \"n_sensors\": 7,\n",
    "        \"resolution\": 0.2,\n",
    "        \"max_sensor_range\": 3,\n",
    "        \"action_dim\": 5,\n",
    "        \"num_episodes\": 1000,\n",
    "        \"Action_value_scaling\": 0.2 \n",
    "    }\n",
    "    # Now calculate Action_value using the action_dim from settings\n",
    "    Action_value = settings[\"Action_value_scaling\"] * np.linspace(-1, 1, settings[\"action_dim\"])\n",
    "    # Add Action_value to settings\n",
    "    settings[\"Action_value\"] = Action_value.tolist() \n",
    "\n",
    "    # Use settings from the dictionary\n",
    "    road_env2 = RoadEnvironmentV2(road_function, settings[\"road_width\"], settings[\"road_length\"], settings[\"closed\"])\n",
    "\n",
    "\n",
    "\n",
    "    car_env = CarEnvironment(road_env2, settings[\"n_sensors\"], settings[\"resolution\"], settings[\"max_sensor_range\"], settings[\"Action_value\"])\n",
    "\n",
    "    state_dim = int(settings[\"n_sensors\"] * settings[\"max_sensor_range\"] / settings[\"resolution\"])\n",
    "\n",
    "    # Create an instance of your QNetwork\n",
    "    q_network = PolicyNetwork(car_env, state_dim, settings[\"action_dim\"], train_mode=True)\n",
    "\n",
    "    # Train the network\n",
    "    q_network.train(num_episodes=settings[\"num_episodes\"])\n",
    "\n",
    "    # Save settings to JSON file\n",
    "    with open('settings.json', 'w') as f:\n",
    "        json.dump(settings, f, indent=4)\n",
    "\n",
    "    # Save the model\n",
    "    torch.save(q_network.state_dict(), 'q_network_model.pth')\n",
    "\n",
    "    print(\"Settings saved to 'settings.json'\")\n",
    "    print(\"Model saved to 'q_network_model.pth'\")\n",
    "    \n",
    "    return settings, road_env2, car_env, q_network\n",
    "\n",
    "# Ask user whether to load existing data or train new model\n",
    "user_choice = input(\"Do you want to load existing data and continue training (L) or train a new model (T)? \").strip().lower()\n",
    "\n",
    "if user_choice == 'l':\n",
    "    settings, road_env, car_env, q_network = load_existing_model_and_train()\n",
    "elif user_choice == 't':\n",
    "    settings, road_env, car_env, q_network = train_new_model()\n",
    "else:\n",
    "    print(\"Invalid choice. Exiting.\")\n",
    "    exit()"
   ]
  },
  {
   "cell_type": "code",
   "execution_count": 247,
   "id": "b7ae3ef2-74f4-4b4a-a27a-f90281e76789",
   "metadata": {
    "tags": []
   },
   "outputs": [
    {
     "name": "stdout",
     "output_type": "stream",
     "text": [
      "{'location': tensor([-1.2314,  5.1314]), 'speed': tensor(0.1000), 'direction': tensor(3.1416)}\n",
      "[tensor([0., 1.])]\n"
     ]
    }
   ],
   "source": [
    "print(car_env.car_state)\n",
    "print(car_env.trajectory)"
   ]
  },
  {
   "cell_type": "markdown",
   "id": "6a98d2e9-cc9e-4fae-9d75-33371f814a47",
   "metadata": {},
   "source": [
    "# run model"
   ]
  },
  {
   "cell_type": "code",
   "execution_count": 2031,
   "id": "2c0848ec-90f2-43e1-8ec8-70634b3d28cb",
   "metadata": {
    "tags": []
   },
   "outputs": [
    {
     "ename": "IndentationError",
     "evalue": "unexpected indent (<string>, line 1)",
     "output_type": "error",
     "traceback": [
      "Traceback \u001b[0;36m(most recent call last)\u001b[0m:\n",
      "\u001b[0m  File \u001b[1;32m~/anaconda3/lib/python3.11/site-packages/IPython/core/interactiveshell.py:3526\u001b[0m in \u001b[1;35mrun_code\u001b[0m\n    exec(code_obj, self.user_global_ns, self.user_ns)\u001b[0m\n",
      "\u001b[0m  Cell \u001b[1;32mIn[2031], line 65\u001b[0m\n    run_model()\u001b[0m\n",
      "\u001b[0;36m  Cell \u001b[0;32mIn[2031], line 24\u001b[0;36m in \u001b[0;35mrun_model\u001b[0;36m\n\u001b[0;31m    exec(settings[\"road_function\"])\u001b[0;36m\n",
      "\u001b[0;36m  File \u001b[0;32m<string>:1\u001b[0;36m\u001b[0m\n\u001b[0;31m    def road_function(x):\u001b[0m\n\u001b[0m    ^\u001b[0m\n\u001b[0;31mIndentationError\u001b[0m\u001b[0;31m:\u001b[0m unexpected indent\n"
     ]
    }
   ],
   "source": [
    "# run model with loading the setting \n",
    "\n",
    "def load_settings(filename='settings.json'):\n",
    "    with open(filename, 'r') as f:\n",
    "        return json.load(f)\n",
    "\n",
    "def run_episode(car_env, agent, max_steps):\n",
    "    car_env.reset()  # Reset the environment at the start of each episode\n",
    "    trajectory = [car_env.loc.copy()]\n",
    "    for _ in range(max_steps):\n",
    "        state = car_env.get_state()\n",
    "        _, action, _, _, _ = agent.get_action(state)\n",
    "        _, reward, done = car_env.step(action)\n",
    "        trajectory.append(car_env.loc.copy())\n",
    "        if done:\n",
    "            break\n",
    "    return trajectory\n",
    "\n",
    "def run_model():\n",
    "    # Load settings\n",
    "    settings = load_settings()\n",
    "\n",
    "    # Recreate the road function\n",
    "    exec(settings[\"road_function\"])\n",
    "\n",
    "    # Create environments\n",
    "    road_env = RoadEnvironmentV2(\n",
    "        road_function, \n",
    "        settings[\"road_width\"], \n",
    "        settings[\"road_length\"], \n",
    "        settings[\"closed\"]\n",
    "    )\n",
    "    \n",
    "    Action_value = 0.15 * np.linspace(-1, 1, settings[\"action_dim\"])\n",
    "    \n",
    "    car_env = CarEnvironment(\n",
    "        road_env, \n",
    "        settings[\"n_sensors\"], \n",
    "        settings[\"resolution\"], \n",
    "        settings[\"max_sensor_range\"], \n",
    "        Action_value\n",
    "    )\n",
    "\n",
    "    # Calculate state dimension\n",
    "    state_dim = int(settings[\"n_sensors\"] * settings[\"max_sensor_range\"] / settings[\"resolution\"])\n",
    "\n",
    "    # Load the saved model\n",
    "    loaded_agent = PolicyNetwork(car_env, state_dim, settings[\"action_dim\"], train_mode=False)\n",
    "    loaded_agent.load_state_dict(torch.load('q_network_model.pth'))\n",
    "    loaded_agent.eval()  # Set the network to evaluation mode\n",
    "\n",
    "    # Run and visualize test episodes\n",
    "    num_test_episodes = 1\n",
    "    max_steps = 200\n",
    "\n",
    "    for episode in range(num_test_episodes):\n",
    "        trajectory = run_episode(car_env, loaded_agent, max_steps)\n",
    "        print(f\"Test Episode {episode + 1}, Trajectory length: {len(trajectory)}\")\n",
    "        \n",
    "        # Update car_env's trajectory for visualization\n",
    "        car_env.trajectory = trajectory\n",
    "        \n",
    "        visualizeV2(road_env, car_env)\n",
    "\n",
    "run_model()"
   ]
  },
  {
   "cell_type": "markdown",
   "id": "9c97f671-f5ec-4799-97e0-16b00cfb93e6",
   "metadata": {
    "pycharm": {
     "name": "#%% md\n"
    },
    "tags": []
   },
   "source": [
    "## DDPG"
   ]
  },
  {
   "cell_type": "code",
   "execution_count": null,
   "id": "98e13907",
   "metadata": {
    "collapsed": false,
    "jupyter": {
     "outputs_hidden": false
    },
    "pycharm": {
     "name": "#%%\n"
    }
   },
   "outputs": [],
   "source": []
  },
  {
   "cell_type": "code",
   "execution_count": null,
   "id": "0ffea86d-74a9-4354-852c-8ab53c8db113",
   "metadata": {
    "pycharm": {
     "name": "#%%\n"
    }
   },
   "outputs": [],
   "source": [
    "https://www.youtube.com/watch?v=ljHwbY9QrJU"
   ]
  },
  {
   "cell_type": "code",
   "execution_count": null,
   "id": "6af1c85a-e9b4-4ec0-8992-dca1f26d4ceb",
   "metadata": {
    "pycharm": {
     "name": "#%%\n"
    }
   },
   "outputs": [],
   "source": [
    "# actor\n",
    "\n",
    "class PolicyNetwork(nn.Module):\n",
    "    def __init__(self, state_dim, action_dim):\n",
    "        super(PolicyNetwork, self).__init__()\n",
    "        self.fc1 = nn.Linear(state_dim, 64)\n",
    "        self.fc2 = nn.Linear(64, 16)\n",
    "        self.fc3 = nn.Linear(16, action_dim)\n",
    "        \n",
    "    def forward(self, x):\n",
    "        x = torch.relu(self.fc1(x))\n",
    "        x = torch.relu(self.fc2(x))\n",
    "        return self.fc3(x) \n",
    "    \n",
    "# critic\n",
    "\n",
    "class QNetwork(nn.Module):\n",
    "    def __init__(self, state_dim, action_dim):\n",
    "        super(PolicyNetwork, self).__init__()\n",
    "        self.fc1 = nn.Linear(state_dim, 64)\n",
    "        self.fc2 = nn.Linear(64, 16)\n",
    "        self.fc3 = nn.Linear(16, action_dim)\n",
    "        \n",
    "    def forward(self, x):\n",
    "        x = torch.relu(self.fc1(x))\n",
    "        x = torch.relu(self.fc2(x))\n",
    "        return self.fc3(x) "
   ]
  },
  {
   "cell_type": "code",
   "execution_count": null,
   "id": "9a2e5163-25de-427b-9906-755870142ca8",
   "metadata": {
    "pycharm": {
     "name": "#%%\n"
    },
    "tags": []
   },
   "outputs": [],
   "source": [
    "\n",
    "\n",
    "\n",
    "class PolicyNetwork(nn.Module):\n",
    "    def __init__(self, state_dim, action_dim):\n",
    "        super(PolicyNetwork, self).__init__()\n",
    "        self.fc1 = nn.Linear(state_dim, 64)\n",
    "        self.fc2 = nn.Linear(64, 16)\n",
    "        self.fc3 = nn.Linear(16, action_dim)\n",
    "        \n",
    "    def forward(self, x):\n",
    "        x = torch.relu(self.fc1(x))\n",
    "        x = torch.relu(self.fc2(x))\n",
    "        return self.fc3(x) \n",
    "\n",
    "class Agent:\n",
    "    def __init__(self, state_dim, action_dim, lr=0.001):\n",
    "        self.policy = PolicyNetwork(state_dim, action_dim)\n",
    "        self.optimizer = optim.Adam(self.policy.parameters(), lr=lr)\n",
    "        self.state_dim = state_dim\n",
    "        self.action_dim = action_dim\n",
    "\n",
    "    def get_action(self, state):\n",
    "        state = torch.FloatTensor(state).unsqueeze(0)\n",
    "        action = self.policy(state)\n",
    "        return action.item(), torch.log(torch.abs(action) + 1e-8)  # Return action and log probability\n",
    "\n",
    "    def update(self, rewards, log_probs):\n",
    "        returns = self.compute_returns(rewards)\n",
    "        policy_loss = []\n",
    "        for log_prob, R in zip(log_probs, returns):\n",
    "            policy_loss.append(-log_prob * R)\n",
    "        policy_loss = torch.stack(policy_loss).sum()\n",
    "        \n",
    "        self.optimizer.zero_grad()\n",
    "        policy_loss.backward()\n",
    "        self.optimizer.step()\n",
    "\n",
    "    def compute_returns(self, rewards, gamma=0.99):\n",
    "        returns = []\n",
    "        R = 0\n",
    "        for r in reversed(rewards):\n",
    "            R = r + gamma * R\n",
    "            returns.insert(0, R)\n",
    "        returns = torch.tensor(returns)\n",
    "        returns = (returns - returns.mean()) / (returns.std() + 1e-8)\n",
    "        return returns\n",
    "\n",
    "def train(env, agent, num_episodes, max_steps):\n",
    "    all_rewards = []\n",
    "    fig, ax = plt.subplots(figsize=(10, 5))\n",
    "    line, = ax.plot([], [])\n",
    "    ax.set_xlabel('Episode')\n",
    "    ax.set_ylabel('Total Reward')\n",
    "    ax.set_title('Training Progress')\n",
    "    \n",
    "    for episode in range(num_episodes):\n",
    "        state = env.reset()\n",
    "        episode_reward = 0\n",
    "        log_probs = []\n",
    "        rewards = []\n",
    "\n",
    "        for step in range(max_steps):\n",
    "            action, log_prob = agent.get_action(state)\n",
    "            next_state, reward, done, _ = env.step(action)\n",
    "            log_probs.append(log_prob)\n",
    "            rewards.append(reward)\n",
    "            episode_reward += reward\n",
    "\n",
    "            if done:\n",
    "                break\n",
    "\n",
    "            state = next_state\n",
    "\n",
    "        agent.update(rewards, log_probs)\n",
    "        all_rewards.append(episode_reward)\n",
    "\n",
    "        if episode % 100 == 0:\n",
    "            # print(f\"Episode {episode}, Total Reward: {episode_reward}\")\n",
    "            # Update the plot\n",
    "            line.set_xdata(range(len(all_rewards)))\n",
    "            line.set_ydata(all_rewards)\n",
    "            ax.relim()\n",
    "            ax.autoscale_view()\n",
    "            display.clear_output(wait=True)\n",
    "            display.display(fig)\n",
    "            plt.pause(0.1)\n",
    "\n",
    "\n",
    "    return all_rewards         \n",
    "            \n",
    "# Setup and training\n",
    "\n",
    "n_sensors = 5  # Number of sensors\n",
    "state_dim = n_sensors  # State dimension is the number of sensors\n",
    "action_dim = 1  # Action dimension is 1 for steering\n",
    "\n",
    "road_env = RoadEnvironment(data_points= [(0, 0), (0, 10)], road_width=1,road_length =10, closed=False, resolution=0.1)\n",
    "car_env = CarEnvironment(road_env,n_sensors)\n",
    "\n",
    "\n",
    "\n",
    "agent = Agent(state_dim, action_dim)\n",
    "num_episodes = 1000\n",
    "max_steps = 200\n",
    "\n",
    "try:\n",
    "    all_rewards = train(car_env, agent, num_episodes, max_steps)\n",
    "    # Save the trained model\n",
    "    torch.save(agent.policy.state_dict(), 'car_policy.pth')\n",
    "    print(\"Model saved successfully!\")\n",
    "    # Final plot\n",
    "    plt.figure(figsize=(12, 6))\n",
    "    plt.plot(all_rewards)\n",
    "    plt.xlabel('Episode')\n",
    "    plt.ylabel('Total Reward')\n",
    "    plt.title('Training Progress')\n",
    "    plt.show()\n",
    "    \n",
    "    \n",
    "except Exception as e:\n",
    "    print(f\"An error occurred: {e}\")\n",
    "    print(f\"Current state: {car_env._get_state()}\")\n",
    "    print(f\"Car location: {car_env.car_state['location']}\")\n",
    "    print(f\"Car direction: {car_env.car_state['direction']}\")\n",
    "    print(f'CarEnv = {car_env.trajectory}')\n",
    "\n",
    "visualize(road_env,car_env)"
   ]
  },
  {
   "cell_type": "markdown",
   "id": "e844ff37-2366-43b7-b607-b14a5d9b2ed1",
   "metadata": {
    "pycharm": {
     "name": "#%% md\n"
    }
   },
   "source": [
    "# Train"
   ]
  },
  {
   "cell_type": "markdown",
   "id": "de82541c-b22a-4f89-a4fe-24ce5be611fd",
   "metadata": {
    "pycharm": {
     "name": "#%% md\n"
    },
    "tags": []
   },
   "source": [
    "# Test"
   ]
  },
  {
   "cell_type": "code",
   "execution_count": 146,
   "id": "464d3aa0-bddf-4ce6-a1ee-31264d1e2ee8",
   "metadata": {
    "pycharm": {
     "name": "#%%\n"
    },
    "tags": []
   },
   "outputs": [],
   "source": [
    "def run_episode(env, agent, max_steps):\n",
    "    state = env.reset()\n",
    "    done = False\n",
    "    total_reward = 0\n",
    "    trajectory = [env.car_state[\"location\"].copy()]\n",
    "\n",
    "    for _ in range(max_steps):\n",
    "        action, _ = agent.get_action(state)\n",
    "        next_state, reward, done, _ = env.step(action)\n",
    "        total_reward += reward\n",
    "        trajectory.append(env.car_state[\"location\"])\n",
    "\n",
    "        if done:\n",
    "            break\n",
    "\n",
    "        state = next_state\n",
    "\n",
    "    return trajectory, total_reward"
   ]
  },
  {
   "cell_type": "code",
   "execution_count": 147,
   "id": "8c5e4ded-d0b4-4898-91b0-0cdaa21d6750",
   "metadata": {
    "pycharm": {
     "name": "#%%\n"
    },
    "tags": []
   },
   "outputs": [
    {
     "ename": "NameError",
     "evalue": "name 'Agent' is not defined",
     "output_type": "error",
     "traceback": [
      "\u001b[0;31m---------------------------------------------------------------------------\u001b[0m",
      "\u001b[0;31mNameError\u001b[0m                                 Traceback (most recent call last)",
      "Cell \u001b[0;32mIn[147], line 2\u001b[0m\n\u001b[1;32m      1\u001b[0m \u001b[38;5;66;03m# Load the saved model\u001b[39;00m\n\u001b[0;32m----> 2\u001b[0m loaded_agent \u001b[38;5;241m=\u001b[39m Agent(state_dim, action_dim)\n\u001b[1;32m      3\u001b[0m loaded_agent\u001b[38;5;241m.\u001b[39mpolicy\u001b[38;5;241m.\u001b[39mload_state_dict(torch\u001b[38;5;241m.\u001b[39mload(\u001b[38;5;124m'\u001b[39m\u001b[38;5;124mcar_policy.pth\u001b[39m\u001b[38;5;124m'\u001b[39m))\n\u001b[1;32m      4\u001b[0m loaded_agent\u001b[38;5;241m.\u001b[39mpolicy\u001b[38;5;241m.\u001b[39meval()  \u001b[38;5;66;03m# Set the network to evaluation mode\u001b[39;00m\n",
      "\u001b[0;31mNameError\u001b[0m: name 'Agent' is not defined"
     ]
    }
   ],
   "source": [
    "# Load the saved model\n",
    "loaded_agent = Agent(state_dim, action_dim)\n",
    "loaded_agent.policy.load_state_dict(torch.load('car_policy.pth'))\n",
    "loaded_agent.policy.eval()  # Set the network to evaluation mode\n",
    "\n",
    "n_sensors = 5  # Number of sensors\n",
    "state_dim = n_sensors  # State dimension is the number of sensors\n",
    "action_dim = 1  # Action dimension is 1 for steering\n",
    "\n",
    "road_env = RoadEnvironment(data_points= [(0, 0), (0, 10)], road_width=1,road_length =15, closed=False, resolution=0.1)\n",
    "car_env = CarEnvironment(road_env,n_sensors)\n",
    "\n",
    "# Run and visualize test episodes\n",
    "num_test_episodes = 5\n",
    "max_steps = 20\n",
    "\n",
    "for episode in range(num_test_episodes):\n",
    "    trajectory, total_reward = run_episode(car_env, loaded_agent, max_steps)\n",
    "    print(f\"Test Episode {episode + 1}, Total Reward: {total_reward}\")\n",
    "    visualize(RoadEnv,CarEnv)\n",
    "\n",
    "\n"
   ]
  },
  {
   "cell_type": "code",
   "execution_count": null,
   "id": "b79e828f-9fb0-47b4-941e-41b248fb17cf",
   "metadata": {
    "pycharm": {
     "name": "#%%\n"
    }
   },
   "outputs": [],
   "source": []
  },
  {
   "cell_type": "code",
   "execution_count": null,
   "id": "15ac2531-4e87-4273-8794-2aae8582fe4e",
   "metadata": {
    "pycharm": {
     "name": "#%%\n"
    },
    "tags": []
   },
   "outputs": [],
   "source": [
    "RoadEnv = RoadEnvironment(data_points= [(0, 0), (0, 10)], road_width=1,road_length =15, closed=False, resolution=0.1)\n",
    "CarEnv  = CarEnvironment(RoadEnv,n_sensors =5)\n",
    "car_agent = CarAgent()\n",
    "\n",
    "\n",
    "\n",
    "while not CarEnv.Terminal:\n",
    "    action = car_agent.act(CarEnv.car_state)\n",
    "    CarEnv.step(action)\n",
    "\n",
    "\n",
    "print(f'CarEnv = {CarEnv.trajectory}')\n",
    "visualize(RoadEnv,CarEnv)"
   ]
  },
  {
   "cell_type": "code",
   "execution_count": null,
   "id": "403806a3-5550-4538-8cc9-24d0e52cf4a3",
   "metadata": {
    "pycharm": {
     "name": "#%%\n"
    },
    "tags": []
   },
   "outputs": [],
   "source": [
    "random.uniform(-.4, .4)+np.pi/2 "
   ]
  },
  {
   "cell_type": "code",
   "execution_count": null,
   "id": "0b13d436-613c-464d-aba2-d4bf3aa1e9a2",
   "metadata": {
    "pycharm": {
     "name": "#%%\n"
    }
   },
   "outputs": [],
   "source": [
    "x = np.linspace(-1,1,10)\n",
    "for i in x:\n",
    "    print((5*(1-abs(i)))**2)"
   ]
  },
  {
   "cell_type": "code",
   "execution_count": null,
   "id": "39dd3413-40ac-44a4-b5ec-e5e39a365395",
   "metadata": {
    "pycharm": {
     "name": "#%%\n"
    },
    "tags": []
   },
   "outputs": [],
   "source": []
  },
  {
   "cell_type": "code",
   "execution_count": null,
   "id": "f01fe852-297d-4766-bc93-d1583d133aaf",
   "metadata": {
    "pycharm": {
     "name": "#%%\n"
    }
   },
   "outputs": [],
   "source": []
  }
 ],
 "metadata": {
  "kernelspec": {
   "display_name": "Python 3 (ipykernel)",
   "language": "python",
   "name": "python3"
  },
  "language_info": {
   "codemirror_mode": {
    "name": "ipython",
    "version": 3
   },
   "file_extension": ".py",
   "mimetype": "text/x-python",
   "name": "python",
   "nbconvert_exporter": "python",
   "pygments_lexer": "ipython3",
   "version": "3.11.5"
  }
 },
 "nbformat": 4,
 "nbformat_minor": 5
}
