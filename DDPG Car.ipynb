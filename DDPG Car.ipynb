{
 "cells": [
  {
   "cell_type": "code",
   "execution_count": 26,
   "id": "c1db7971-75cd-4351-abcf-210f27e229ef",
   "metadata": {
    "tags": []
   },
   "outputs": [],
   "source": [
    "import numpy as np\n",
    "import matplotlib.pyplot as plt\n",
    "from matplotlib.path import Path\n",
    "from matplotlib.patches import PathPatch\n",
    "import random\n",
    "import torch\n",
    "import torch.nn as nn\n",
    "import math"
   ]
  },
  {
   "cell_type": "markdown",
   "id": "875a4901-8afb-4b97-8bca-152b93abffd2",
   "metadata": {
    "jp-MarkdownHeadingCollapsed": true,
    "tags": []
   },
   "source": [
    "# Visualisation"
   ]
  },
  {
   "cell_type": "code",
   "execution_count": 39,
   "id": "8a9166ce-8330-40ae-acce-463a18691e5b",
   "metadata": {
    "tags": []
   },
   "outputs": [],
   "source": [
    "def visualize(roadEnv,carEnv):\n",
    "    \"\"\"Visualize the road environment\"\"\"\n",
    "    fig, ax = plt.subplots(figsize=(10, 10))\n",
    "\n",
    "    # Plot center line\n",
    "    center = np.array(roadEnv.center)\n",
    "    ax.plot(center[:, 0], center[:, 1], 'k--', linewidth=1, label='Center')\n",
    "\n",
    "    # Plot left edge\n",
    "    left = np.array(roadEnv.left_edge)\n",
    "    ax.plot(left[:, 0], left[:, 1], 'b-', linewidth=2, label='Left Edge')\n",
    "\n",
    "    # Plot right edge\n",
    "    right = np.array(roadEnv.right_edge)\n",
    "    ax.plot(right[:, 0], right[:, 1], 'r-', linewidth=2, label='Right Edge')\n",
    "\n",
    "    # Fill the road area\n",
    "    road_polygon = np.vstack((left, right[::-1]))\n",
    "    ax.fill(road_polygon[:, 0], road_polygon[:, 1], color='gray', alpha=0.3)\n",
    "\n",
    "    # Car location and direction as arrow\n",
    "    car_loc_x = carEnv.car_state[\"location\"][0]\n",
    "    car_loc_y = carEnv.car_state[\"location\"][1]\n",
    "    car_dir = carEnv.car_state[\"direction\"]\n",
    "    \n",
    "    \n",
    "\n",
    "    arrow = plt.arrow(car_loc_x, car_loc_y, 0.2 * np.cos(car_dir), 0.2 * np.sin(car_dir), color='b', width=0.02)\n",
    "\n",
    "    ax.add_patch(arrow)\n",
    "    \n",
    "    # Car trajectory\n",
    "    trajectory = carEnv.trajectory.copy()  # Get a copy of the trajectory\n",
    "    if len(trajectory) > 1:  # Check if there's more than one point\n",
    "        x_traj, y_traj = zip(*trajectory)  # Unpack coordinates if trajectory has points\n",
    "        ax.plot(x_traj, y_traj, 'r-', linewidth=1, label='Trajectory')\n",
    "\n",
    "    \n",
    "\n",
    "    \n",
    "    # Set plot properties\n",
    "    ax.set_aspect('equal', 'box')\n",
    "    ax.set_xlabel('X')\n",
    "    ax.set_ylabel('Y')\n",
    "    ax.set_title('Road Environment')\n",
    "    ax.legend(loc='upper right')\n",
    "    ax.grid(True)\n",
    "\n",
    "    # Adjust the plot limits\n",
    "    all_points = np.vstack((roadEnv.center, roadEnv.left_edge, roadEnv.right_edge))\n",
    "    margin = roadEnv.width\n",
    "    ax.set_xlim(min(all_points[:, 0]) - margin, max(all_points[:, 0]) + margin)\n",
    "    ax.set_ylim(min(all_points[:, 1]) - margin, max(all_points[:, 1]) + margin)\n",
    "\n",
    "    plt.show()"
   ]
  },
  {
   "cell_type": "markdown",
   "id": "1fd6c22d-1b91-4da8-840f-55aa54d41319",
   "metadata": {},
   "source": [
    "# Env"
   ]
  },
  {
   "cell_type": "code",
   "execution_count": 244,
   "id": "b78bd37c-c37c-46a9-849d-45f975271bc5",
   "metadata": {
    "tags": []
   },
   "outputs": [],
   "source": [
    "class RoadEnvironment:\n",
    "    def __init__(self, data_points, width, length, closed=True):\n",
    "        \"\"\"\n",
    "        Initialize the road environment.\n",
    "        \n",
    "        :param data_points: List of (x, y) tuples representing road points\n",
    "        :param width: Width of the road (distance from center to edge)\n",
    "        :param closed: Boolean indicating if the road is a closed loop\n",
    "        \"\"\"\n",
    "        self.data_points = np.array(data_points)\n",
    "        self.width = width\n",
    "        self.length = length\n",
    "        self.closed = closed\n",
    "        self.road_path = self._generate_road_path()\n",
    "        \n",
    "        # more parameters\n",
    "        self.resulotion = 0.1\n",
    "        \n",
    "    def _generate_road_path(self):\n",
    "        self.center = [(0,0),(0,10)]\n",
    "        self.left_edge = [(self.width,0),(self.width,10)]\n",
    "        self.right_edge = [(-self.width,0),(-self.width,10)]\n",
    "        \n",
    "    \n",
    "    def on_road(self,loc,direction):\n",
    "        x = loc[0]\n",
    "        y = loc[1]\n",
    "        # Check road boundaries using individual conditions\n",
    "        if  -self.width < x < self.width and 0 <= y < self.length and 0 < direction <  np.pi:\n",
    "            return True\n",
    "        else:\n",
    "            return False\n",
    "    \n",
    "    def sensors(self, loc, direction, n): #number of sensors\n",
    "        min_dir = direction - .5 * np.pi\n",
    "        max_dir = direction + .5 * np.pi\n",
    "        directions = np.linspace(min_dir, max_dir, n)\n",
    "        distanses = []\n",
    "        \n",
    "        for i in directions:\n",
    "            temp_loc = loc.copy()\n",
    "            dis = 0\n",
    "            while self.on_road(temp_loc,direction = 0.5*np.pi) and dis < 20:\n",
    "                temp_loc[0] +=  self.resulotion *  math.cos(i)\n",
    "                temp_loc[1] +=  self.resulotion *  math.sin(i)\n",
    "                dis += self.resulotion\n",
    "            distanses.append(dis)\n",
    "            \n",
    "        print(f'temp_loc ={loc}, direction ={direction},\\n   direction ={directions},\\n    dis = {distanses}')\n",
    "        return distanses\n",
    "          \n",
    "\n",
    "        \n",
    "\n"
   ]
  },
  {
   "cell_type": "code",
   "execution_count": 258,
   "id": "b5e7fc89-21ef-47c9-ac3d-9214fedbec98",
   "metadata": {
    "tags": []
   },
   "outputs": [],
   "source": [
    "class CarEnvironment:\n",
    "    def __init__(self,RoadEnv,max_speed=5):\n",
    "        self.max_speed = max_speed\n",
    "        self.reset()  # Initialize car state\n",
    "        \n",
    "\n",
    "    def reset(self):\n",
    "        self.car_state = {\n",
    "            \"location\": [0,0],\n",
    "            \"speed\": .5,\n",
    "            \"direction\": np.pi/2  }# + np.random.uniform(-.4, .4) }\n",
    "        self.Terminal = False\n",
    "        self.trajectory = [self.car_state[\"location\"].copy()]\n",
    "  \n",
    "    \n",
    "    def distance_to_edge(self):\n",
    "        \"\"\"  Calculate the distance to the closest edge of the road. \"\"\"\n",
    "        x = self.car_state[\"location\"][0]\n",
    "        return min([abs(x),abs(-x)])  # Replace with actual distance calculation\n",
    "\n",
    "    def step(self, action):\n",
    "        # Update car state based on action         \n",
    "        self.car_state[\"direction\"] = self.car_state[\"direction\"] + np.squeeze(action)\n",
    "\n",
    "        # Move the car based on speed and direction\n",
    "        dx = self.car_state['speed'] * math.cos(self.car_state[\"direction\"])\n",
    "        dy = self.car_state['speed'] * math.sin(self.car_state[\"direction\"])\n",
    "     \n",
    "        self.car_state[\"location\"][0] += dx\n",
    "        self.car_state[\"location\"][1] += dy\n",
    "              \n",
    "        self.trajectory.append(np.array(self.car_state[\"location\"].copy()))\n",
    "        \n",
    "        self.Terminal = RoadEnv.on_road(self.car_state[\"location\"],self.car_state[\"direction\"])\n",
    "        \n",
    "        \n",
    "        \n",
    "        if self.Terminal:\n",
    "            reward = -10\n",
    "        else:\n",
    "            reward = -self.distance_to_edge()\n",
    "\n",
    "class CarAgent(nn.Module):\n",
    "    def __init__(self, state_size=5, action_size=1):\n",
    "        super(CarAgent, self).__init__()\n",
    "        self.state_size = state_size\n",
    "        self.action_size = action_size\n",
    "        self.build_model()\n",
    "\n",
    "    def build_model(self):\n",
    "        # Define the neural network architecture\n",
    "        self.fc1 = nn.Linear(self.state_size, 32)\n",
    "        self.fc2 = nn.Linear(32, 8)\n",
    "        self.fc3 = nn.Linear(8, 4)\n",
    "        self.fc4 = nn.Linear(4, self.action_size)\n",
    "\n",
    "    def forward(self, x):\n",
    "        \"\"\"\n",
    "        Define the forward pass of the neural network.\n",
    "        \"\"\"\n",
    "        x = torch.relu(self.fc1(x))\n",
    "        x = torch.relu(self.fc2(x))\n",
    "        x = torch.relu(self.fc3(x))\n",
    "        x = self.fc4(x)\n",
    "        return x\n",
    "\n",
    "    def act(self, state):\n",
    "        \"\"\"\n",
    "        Predict an action based on the input state.\n",
    "        \"\"\"\n",
    "        state = RoadEnv.sensors( state[\"location\"].copy(), state[\"direction\"], n=self.state_size)  \n",
    "        state = torch.tensor(state, dtype=torch.float).unsqueeze(0)  # Convert to tensor and add batch dim\n",
    "        action = self.forward(state)\n",
    "        print(f'action = {action}')\n",
    "        return action.detach().numpy()[0]  # Detach and convert back to numpy array\n",
    "    "
   ]
  },
  {
   "cell_type": "code",
   "execution_count": 266,
   "id": "15ac2531-4e87-4273-8794-2aae8582fe4e",
   "metadata": {
    "tags": []
   },
   "outputs": [
    {
     "name": "stdout",
     "output_type": "stream",
     "text": [
      "temp_loc =[0, 0], direction =1.5707963267948966,\n",
      "   direction =[0.         0.78539816 1.57079633 2.35619449 3.14159265],\n",
      "    dis = [1.0999999999999999, 1.5000000000000002, 10.09999999999998, 1.5000000000000002, 1.0999999999999999]\n",
      "action = tensor([[0.1535]], grad_fn=<AddmmBackward0>)\n",
      "temp_loc =[-0.07644958305800718, 0.49412089740290976], direction =1.7242975989964346,\n",
      "   direction =[0.15350127 0.93889944 1.7242976  2.50969576 3.29509393],\n",
      "    dis = [1.0999999999999999, 1.9000000000000006, 6.099999999999994, 1.2, 0.9999999999999999]\n",
      "action = tensor([[0.1847]], grad_fn=<AddmmBackward0>)\n",
      "temp_loc =[-0.2423466377915528, 0.9657968107488586], direction =1.9090011129763464,\n",
      "   direction =[0.33820479 1.12360295 1.90900111 2.69439928 3.47979744],\n",
      "    dis = [1.4000000000000001, 2.9000000000000012, 2.3000000000000007, 0.8999999999999999, 0.8999999999999999]\n",
      "action = tensor([[0.1736]], grad_fn=<AddmmBackward0>)\n",
      "CarEnv = [[0, 0], array([-0.07644958,  0.4941209 ]), array([-0.24234664,  0.96579681]), array([-0.48721187,  1.40173375])]\n"
     ]
    },
    {
     "data": {
      "image/png": "[encoded data removed]",
      "text/plain": [
       "<Figure size 1000x1000 with 1 Axes>"
      ]
     },
     "metadata": {},
     "output_type": "display_data"
    }
   ],
   "source": [
    "RoadEnv = RoadEnvironment(data_points= [(0, 0), (0, 10)], width=1,length =10, closed=False)\n",
    "CarEnv  = CarEnvironment(RoadEnv)\n",
    "car_agent = CarAgent()\n",
    "\n",
    "\n",
    "action = car_agent.act(CarEnv.car_state)\n",
    "CarEnv.step(action)\n",
    "action = car_agent.act(CarEnv.car_state)\n",
    "CarEnv.step(action)\n",
    "action = car_agent.act(CarEnv.car_state)\n",
    "CarEnv.step(action)\n",
    "\n",
    "print(f'CarEnv = {CarEnv.trajectory}')\n",
    "visualize(RoadEnv,CarEnv)"
   ]
  },
  {
   "cell_type": "code",
   "execution_count": 385,
   "id": "403806a3-5550-4538-8cc9-24d0e52cf4a3",
   "metadata": {
    "tags": []
   },
   "outputs": [
    {
     "data": {
      "text/plain": [
       "1.4154536623410654"
      ]
     },
     "execution_count": 385,
     "metadata": {},
     "output_type": "execute_result"
    }
   ],
   "source": [
    "random.uniform(-.4, .4)+np.pi/2 "
   ]
  },
  {
   "cell_type": "code",
   "execution_count": null,
   "id": "0b13d436-613c-464d-aba2-d4bf3aa1e9a2",
   "metadata": {},
   "outputs": [],
   "source": []
  }
 ],
 "metadata": {
  "kernelspec": {
   "display_name": "Python 3 (ipykernel)",
   "language": "python",
   "name": "python3"
  },
  "language_info": {
   "codemirror_mode": {
    "name": "ipython",
    "version": 3
   },
   "file_extension": ".py",
   "mimetype": "text/x-python",
   "name": "python",
   "nbconvert_exporter": "python",
   "pygments_lexer": "ipython3",
   "version": "3.11.5"
  }
 },
 "nbformat": 4,
 "nbformat_minor": 5
}
