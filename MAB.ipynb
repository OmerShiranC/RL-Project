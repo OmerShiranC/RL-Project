{
 "cells": [
  {
   "cell_type": "markdown",
   "id": "275ebc24-4f50-408b-8097-ae9a1a1bff73",
   "metadata": {
    "tags": []
   },
   "source": [
    "# Multi armed Bandits\n"
   ]
  },
  {
   "cell_type": "code",
   "execution_count": 29,
   "id": "3d2fd7b8-8445-4fd7-8be9-b0398f9c9b53",
   "metadata": {
    "tags": []
   },
   "outputs": [],
   "source": [
    "import numpy as np\n",
    "import scipy as sc\n",
    "\n",
    "class Arms:\n",
    "    def __init__(self,n,mu):\n",
    "        self.name = np.linspace(0,n-1,n)\n",
    "        self.true_val = mu\n",
    "        \n",
    "        self.N = np.zeros(n)\n",
    "        self.val = np.ones(n)\n",
    "        \n",
    "        \n",
    "    def pull_arm(self,arm):\n",
    "        reward = sc.stats.bernoulli.rvs(self.true_val[arm])\n",
    "        self.N[arm]+=1\n",
    "        self.val[arm] = self.val[arm] + ()/N\n",
    "        return reward"
   ]
  },
  {
   "cell_type": "code",
   "execution_count": 30,
   "id": "9eb1ae69-8e51-48ae-9278-b19813c00315",
   "metadata": {
    "tags": []
   },
   "outputs": [],
   "source": [
    "# define arms\n",
    "\n",
    "n = 5\n",
    "arms = Arms(n,np.random.rand(n))"
   ]
  },
  {
   "cell_type": "code",
   "execution_count": 33,
   "id": "153c3ece-d4ee-4b07-a4c3-5484035f39c6",
   "metadata": {
    "tags": []
   },
   "outputs": [
    {
     "data": {
      "text/plain": [
       "1"
      ]
     },
     "execution_count": 33,
     "metadata": {},
     "output_type": "execute_result"
    }
   ],
   "source": [
    "arms.pull_arm(3)"
   ]
  },
  {
   "cell_type": "code",
   "execution_count": 34,
   "id": "8d80dc40-fbed-47d1-8e40-f36f029769fe",
   "metadata": {
    "tags": []
   },
   "outputs": [
    {
     "data": {
      "text/plain": [
       "array([0., 1., 2., 3., 4.])"
      ]
     },
     "execution_count": 34,
     "metadata": {},
     "output_type": "execute_result"
    }
   ],
   "source": [
    "arms.name"
   ]
  },
  {
   "cell_type": "code",
   "execution_count": 35,
   "id": "9395b5a7-8e9f-46c0-a95c-835fec1cfd90",
   "metadata": {
    "tags": []
   },
   "outputs": [
    {
     "data": {
      "text/plain": [
       "array([0.1580467 , 0.87484062, 0.8377322 , 0.9073128 , 0.92945598])"
      ]
     },
     "execution_count": 35,
     "metadata": {},
     "output_type": "execute_result"
    }
   ],
   "source": [
    "arms.true_val"
   ]
  },
  {
   "cell_type": "code",
   "execution_count": 36,
   "id": "c7a545a5-b823-4c1d-8db8-7714beaafa60",
   "metadata": {
    "tags": []
   },
   "outputs": [
    {
     "data": {
      "text/plain": [
       "array([0., 0., 0., 3., 0.])"
      ]
     },
     "execution_count": 36,
     "metadata": {},
     "output_type": "execute_result"
    }
   ],
   "source": [
    "arms.N"
   ]
  },
  {
   "cell_type": "code",
   "execution_count": null,
   "id": "ca1a0df9-896a-4f96-b910-d7ca8e53daa0",
   "metadata": {},
   "outputs": [],
   "source": []
  }
 ],
 "metadata": {
  "kernelspec": {
   "display_name": "Python 3 (ipykernel)",
   "language": "python",
   "name": "python3"
  },
  "language_info": {
   "codemirror_mode": {
    "name": "ipython",
    "version": 3
   },
   "file_extension": ".py",
   "mimetype": "text/x-python",
   "name": "python",
   "nbconvert_exporter": "python",
   "pygments_lexer": "ipython3",
   "version": "3.11.5"
  }
 },
 "nbformat": 4,
 "nbformat_minor": 5
}
