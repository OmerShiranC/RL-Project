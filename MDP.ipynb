{
 "cells": [
  {
   "cell_type": "markdown",
   "id": "414d91fe-9cc1-4dd4-8c7c-3e2815d5c6de",
   "metadata": {
    "tags": []
   },
   "source": [
    "# MDP\n",
    "\n",
    "- Monte carlo\n",
    "- Q learining\n",
    "- Sarsa\n",
    "- Values iteration\n",
    "- Dyna Q\n",
    "- Dyna +"
   ]
  },
  {
   "cell_type": "code",
   "execution_count": 336,
   "id": "b14ed731-8f27-4094-80fc-e6875aa3f301",
   "metadata": {
    "tags": []
   },
   "outputs": [],
   "source": [
    "import numpy as np\n",
    "import matplotlib.pyplot as plt\n",
    "from matplotlib.colors import ListedColormap\n",
    "import random\n",
    "\n",
    "\n",
    "class Environment:\n",
    "    def __init__(self, width, height, start, terminal, num_blocks):\n",
    "        # Environment variables \n",
    "        self.width = width\n",
    "        self.height = height\n",
    "        self.start = start\n",
    "        self.terminal = terminal\n",
    "        self.grid = np.zeros((height * width))  # Create an empty grid\n",
    "        self.num_blocks = num_blocks\n",
    "        \n",
    "        \n",
    "        # policy variables\n",
    "        self.values = np.zeros((width * height))  # Values for each cell\n",
    "        self.actions = 0.25 * np.ones((width * height, 4))  # Actions probability vectors for each cell\n",
    "        \n",
    "    def LocToState(self,loc):\n",
    "        x,y = loc\n",
    "        return self.width * x + y\n",
    "    \n",
    "    def StateToLoc(self,state):\n",
    "        x = state//self.width\n",
    "        y = state - x * self.width\n",
    "        return x,y\n",
    "    \n",
    "    def generate_blocks(self):\n",
    "        self.grid[self.start] = 1\n",
    "        self.grid[self.terminal] = 2\n",
    "        self.blocked = []\n",
    "    \n",
    "        # Generate random block positions\n",
    "        for _ in range(self.num_blocks):\n",
    "            blocked_state = random.randint(0, self.height * self.width - 1)\n",
    "            if blocked_state != self.start and blocked_state != self.terminal:\n",
    "                self.grid[blocked_state] = -1\n",
    "                self.blocked.append(blocked_state)\n",
    "    \n",
    "    def plot_grid(self):\n",
    "        # Define custom colors for each value\n",
    "        colors = ['black', 'white', 'blue', 'red']  # Colors for values -1, 0, 1, 2\n",
    "\n",
    "        # Create a custom colormap\n",
    "        cmap = ListedColormap(colors)\n",
    "       \n",
    "        # plt.imshow(self.grid, cmap=cmap, interpolation='nearest')\n",
    "        mat_grid = self.grid.reshape((self.width, self.height))\n",
    "        plt.pcolor(mat_grid, cmap=cmap, edgecolors='k')\n",
    "        \n",
    "        # Add markers for start and terminal points\n",
    "        x_start,y_start = StateToLoc(self.start)\n",
    "        x_terminal,y_terminal = StateToLoc(self.terminal)\n",
    "        plt.text(y_start + 0.5, x_start + 0.5, 'S', color='white', fontsize=12, ha='center', va='center')\n",
    "        plt.text(y_terminal + 0.5, x_terminal + 0.5, 'T', color='white', fontsize=12, ha='center', va='center')\n",
    "    \n",
    "        # plt.colorbar()\n",
    "        plt.title('Grid')\n",
    "        plt.show()\n",
    "    \n",
    "    def plot_policy(self):\n",
    "        # Define custom colors for each value\n",
    "        colors = ['black', 'white', 'blue', 'red']  # Colors for values -1, 0, 1, 2\n",
    "\n",
    "        # Create a custom colormap\n",
    "        cmap = ListedColormap(colors)\n",
    "       \n",
    "        # plt.imshow(self.grid, cmap=cmap, interpolation='nearest')\n",
    "        mat_grid = self.grid.reshape((self.height,self.width ))\n",
    "        plt.pcolor(mat_grid, cmap=cmap, edgecolors='k')\n",
    "        \n",
    "        # Add markers for start and terminal points\n",
    "        x_start,y_start = StateToLoc(self.start)\n",
    "        x_terminal,y_terminal = StateToLoc(self.terminal)\n",
    "        plt.text(y_start + 0.5, x_start + 0.5, 'S', color='white', fontsize=12, ha='center', va='center')\n",
    "        plt.text(y_terminal + 0.5, x_terminal + 0.5, 'T', color='white', fontsize=12, ha='center', va='center')\n",
    "        \n",
    "        offsets = [(.65, .5), (0.5, 0.65), (0.35, 0.5), (0.5, 0.35)]  # Up, Right, Down, Left\n",
    "        direction = [(1,0),(0,1),(-1,0),(0,-1)]\n",
    "        \n",
    "        for state in range(self.width * self.height):\n",
    "            if state != self.terminal and state not in self.blocked:\n",
    "                x,y = StateToLoc(state)\n",
    "                for a, offset in enumerate(offsets):\n",
    "                    arrow_length = self.actions[state][a]*0.25  # Get the action probability for the current action\n",
    "                    if arrow_length >0:\n",
    "                        plt.arrow(x + offset[0], y + offset[1],  # Start position\n",
    "                                      arrow_length*direction[a][0], arrow_length*direction[a][1],  # Arrow length scaled by probability\n",
    "                                      color='k', alpha=0.5, head_width=0.1, head_length=0.1)  # Arrow properties\n",
    "                if state != self.start:\n",
    "                    plt.text(x + 0.5, y + 0.5, f'{self.values[state]:.2f}', color='black', fontsize=8, ha='center', va='center')\n",
    "            \n",
    "        # for x in range(self.width):\n",
    "        #     for y in range(self.height):\n",
    "        #         if (x,y) != self.terminal:\n",
    "        #             for a, offset in enumerate(offsets):\n",
    "        #                 arrow_length = self.actions[x][y][a]*0.25  # Get the action probability for the current action\n",
    "        #                 if arrow_length >0:\n",
    "        #                     plt.arrow(x + offset[0], y + offset[1],  # Start position\n",
    "        #                               arrow_length*direction[a][0], arrow_length*direction[a][1],  # Arrow length scaled by probability\n",
    "        #                               color='k', alpha=0.5, head_width=0.1, head_length=0.1)  # Arrow properties\n",
    "        #             if (x,y) != self.start:\n",
    "        #                 plt.text(x + 0.5, y + 0.5, f'{self.values[x][y]:.2f}', color='black', fontsize=8, ha='center', va='center')\n",
    "        # plt.colorbar()\n",
    "        plt.title('Grid')\n",
    "        plt.show()\n",
    "        \n",
    "\n",
    "        \n",
    "def initialize():\n",
    "    width = 4\n",
    "    height = 6\n",
    "    start = 0\n",
    "    terminal = width*height-1\n",
    "    num_blocks = 4  # Number of random blocks\n",
    "    grid_mdp = Environment(width, height, start, terminal, num_blocks)\n",
    "    grid_mdp.generate_blocks()\n",
    "    grid_mdp.plot_grid()\n",
    "    grid_mdp.plot_policy()\n",
    "\n",
    "    return grid_mdp\n",
    "    \n"
   ]
  },
  {
   "cell_type": "code",
   "execution_count": 337,
   "id": "72578443-32f8-4676-9b33-307395c4b55c",
   "metadata": {
    "tags": []
   },
   "outputs": [
    {
     "data": {
      "image/png": "[encoded data removed]",
      "text/plain": [
       "<Figure size 640x480 with 1 Axes>"
      ]
     },
     "metadata": {},
     "output_type": "display_data"
    },
    {
     "data": {
      "image/png": "[encoded data removed]",
      "text/plain": [
       "<Figure size 640x480 with 1 Axes>"
      ]
     },
     "metadata": {},
     "output_type": "display_data"
    }
   ],
   "source": [
    "# Example usage:\n",
    "grid_mdp= initialize()"
   ]
  },
  {
   "cell_type": "code",
   "execution_count": 299,
   "id": "a8c9f878-c6ca-4f5f-8045-292cd2fff5da",
   "metadata": {
    "tags": []
   },
   "outputs": [
    {
     "data": {
      "text/plain": [
       "15"
      ]
     },
     "execution_count": 299,
     "metadata": {},
     "output_type": "execute_result"
    }
   ],
   "source": [
    "grid_mdp.terminal"
   ]
  },
  {
   "cell_type": "code",
   "execution_count": 254,
   "id": "83def2d1-dab6-42ef-882a-59305bdf46e2",
   "metadata": {
    "tags": []
   },
   "outputs": [],
   "source": [
    "def Monte_Carlo(self):\n",
    "    y = list(range(self.width - 1)).remove(self.start[1]).remove(self.terminal[1])\n",
    "    x = list(range(self.height -1)).remove(self.start[1]).remove(self.terminal[1])\n",
    "    print(f' x = {x}, y = {y}')\n",
    "\n",
    "Environment.Monte_Carlo = Monte_Carlo"
   ]
  },
  {
   "cell_type": "code",
   "execution_count": 308,
   "id": "57f608dc-34d9-4139-9edd-609d267c55d8",
   "metadata": {
    "tags": []
   },
   "outputs": [],
   "source": [
    "w = 6\n",
    "h = 4\n",
    "def LocToState(loc):\n",
    "        x,y = loc\n",
    "        return w * x + y\n",
    "    \n",
    "def StateToLoc(state):\n",
    "    x = state//w\n",
    "    y = state - x * w\n",
    "    return (x,y)"
   ]
  },
  {
   "cell_type": "code",
   "execution_count": 266,
   "id": "f6930825-bcba-4738-8d67-628ceaf4a90a",
   "metadata": {
    "tags": []
   },
   "outputs": [
    {
     "data": {
      "text/plain": [
       "33"
      ]
     },
     "execution_count": 266,
     "metadata": {},
     "output_type": "execute_result"
    }
   ],
   "source": [
    "LocToState((5,3))"
   ]
  },
  {
   "cell_type": "code",
   "execution_count": 310,
   "id": "1d413056-90e8-4427-b18e-c03bc7b825ed",
   "metadata": {
    "tags": []
   },
   "outputs": [
    {
     "data": {
      "text/plain": [
       "(3, 5)"
      ]
     },
     "execution_count": 310,
     "metadata": {},
     "output_type": "execute_result"
    }
   ],
   "source": [
    "StateToLoc(6*4-1)"
   ]
  },
  {
   "cell_type": "code",
   "execution_count": null,
   "id": "f2e6a16e-cdd4-49eb-9afd-2a9e9a0feb09",
   "metadata": {},
   "outputs": [],
   "source": []
  }
 ],
 "metadata": {
  "kernelspec": {
   "display_name": "Python 3 (ipykernel)",
   "language": "python",
   "name": "python3"
  },
  "language_info": {
   "codemirror_mode": {
    "name": "ipython",
    "version": 3
   },
   "file_extension": ".py",
   "mimetype": "text/x-python",
   "name": "python",
   "nbconvert_exporter": "python",
   "pygments_lexer": "ipython3",
   "version": "3.11.5"
  }
 },
 "nbformat": 4,
 "nbformat_minor": 5
}
